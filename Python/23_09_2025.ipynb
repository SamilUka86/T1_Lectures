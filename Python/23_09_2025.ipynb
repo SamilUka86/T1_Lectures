{
 "cells": [
  {
   "cell_type": "markdown",
   "metadata": {},
   "source": [
    "## Math library / Module"
   ]
  },
  {
   "cell_type": "code",
   "execution_count": 11,
   "metadata": {},
   "outputs": [
    {
     "data": {
      "text/plain": [
       "['__doc__',\n",
       " '__loader__',\n",
       " '__name__',\n",
       " '__package__',\n",
       " '__spec__',\n",
       " 'acos',\n",
       " 'acosh',\n",
       " 'asin',\n",
       " 'asinh',\n",
       " 'atan',\n",
       " 'atan2',\n",
       " 'atanh',\n",
       " 'ceil',\n",
       " 'comb',\n",
       " 'copysign',\n",
       " 'cos',\n",
       " 'cosh',\n",
       " 'degrees',\n",
       " 'dist',\n",
       " 'e',\n",
       " 'erf',\n",
       " 'erfc',\n",
       " 'exp',\n",
       " 'expm1',\n",
       " 'fabs',\n",
       " 'factorial',\n",
       " 'floor',\n",
       " 'fmod',\n",
       " 'frexp',\n",
       " 'fsum',\n",
       " 'gamma',\n",
       " 'gcd',\n",
       " 'hypot',\n",
       " 'inf',\n",
       " 'isclose',\n",
       " 'isfinite',\n",
       " 'isinf',\n",
       " 'isnan',\n",
       " 'isqrt',\n",
       " 'ldexp',\n",
       " 'lgamma',\n",
       " 'log',\n",
       " 'log10',\n",
       " 'log1p',\n",
       " 'log2',\n",
       " 'modf',\n",
       " 'nan',\n",
       " 'perm',\n",
       " 'pi',\n",
       " 'pow',\n",
       " 'prod',\n",
       " 'radians',\n",
       " 'remainder',\n",
       " 'sin',\n",
       " 'sinh',\n",
       " 'sqrt',\n",
       " 'tan',\n",
       " 'tanh',\n",
       " 'tau',\n",
       " 'trunc']"
      ]
     },
     "execution_count": 11,
     "metadata": {},
     "output_type": "execute_result"
    }
   ],
   "source": [
    " import math as m\n",
    "dir(m)"
   ]
  },
  {
   "cell_type": "code",
   "execution_count": 13,
   "metadata": {},
   "outputs": [
    {
     "name": "stdout",
     "output_type": "stream",
     "text": [
      "3.141592653589793\n",
      "7.0710678118654755\n",
      "3628800\n"
     ]
    }
   ],
   "source": [
    "print(m.pi)\n",
    "print(m.sqrt(50))\n",
    "print(math.factorial(10))"
   ]
  },
  {
   "cell_type": "code",
   "execution_count": 14,
   "metadata": {},
   "outputs": [
    {
     "name": "stdout",
     "output_type": "stream",
     "text": [
      "7.0710678118654755\n"
     ]
    }
   ],
   "source": [
    "from math import *\n",
    "print(sqrt(50))"
   ]
  },
  {
   "cell_type": "code",
   "execution_count": 15,
   "metadata": {},
   "outputs": [],
   "source": [
    "import math"
   ]
  },
  {
   "cell_type": "markdown",
   "metadata": {},
   "source": [
    "math.(then on pressing tab we can select all the functions)"
   ]
  },
  {
   "cell_type": "markdown",
   "metadata": {},
   "source": [
    "#####  Q.Write a program to find the area of circle radius to be taken input from user"
   ]
  },
  {
   "cell_type": "code",
   "execution_count": 18,
   "metadata": {},
   "outputs": [
    {
     "name": "stdout",
     "output_type": "stream",
     "text": [
      "Enter radius1\n",
      "3.141592653589793\n"
     ]
    }
   ],
   "source": [
    "import math as m \n",
    "x=int(input(\"Enter radius\"))\n",
    "area=m.pi*m.pow(x,2)\n",
    "print(area)"
   ]
  },
  {
   "cell_type": "markdown",
   "metadata": {},
   "source": [
    "######  Cylinder\n",
    "Area=2(pie)r**2 + 2(pie)r*h\n",
    "\n",
    "Volume=(pie)r**2h\n",
    "\n",
    "##### Q.Find area and volume of cylinder"
   ]
  },
  {
   "cell_type": "code",
   "execution_count": 24,
   "metadata": {},
   "outputs": [
    {
     "name": "stdout",
     "output_type": "stream",
     "text": [
      "Enter radius:1\n",
      "Enter height:1\n",
      "Area 12.566370614359172\n",
      "Volume 3.141592653589793\n"
     ]
    }
   ],
   "source": [
    "import math as m\n",
    "r=int(input(\"Enter radius:\"))\n",
    "h=int(input(\"Enter height:\"))\n",
    "Area=2*m.pi*r*(r+h)\n",
    "Volume=m.pi*pow(r,2)*h\n",
    "print(\"Area\",Area)\n",
    "print(\"Volume\",Volume)"
   ]
  },
  {
   "cell_type": "markdown",
   "metadata": {},
   "source": [
    "#####  Convert farenheit to celcius\n",
    "c=(f-32)*(5/9)"
   ]
  },
  {
   "cell_type": "code",
   "execution_count": 37,
   "metadata": {},
   "outputs": [
    {
     "name": "stdout",
     "output_type": "stream",
     "text": [
      "Enter temprature in farenheit:1\n",
      "Temperature in celius: -17.222\n"
     ]
    }
   ],
   "source": [
    "f=int(input(\"Enter temprature in farenheit:\"))\n",
    "c=(f-32)*(5/9)\n",
    "print(\"Temperature in celius:\",round(c,3))"
   ]
  },
  {
   "cell_type": "code",
   "execution_count": 32,
   "metadata": {},
   "outputs": [
    {
     "name": "stdout",
     "output_type": "stream",
     "text": [
      "Enter temprature in celcius:1\n",
      "Temperature in farenheit: 33.8\n"
     ]
    }
   ],
   "source": [
    "c=int(input(\"Enter temprature in celcius:\"))\n",
    "f=(9/5)*c+32\n",
    "print(\"Temperature in farenheit:\",round(f,5))"
   ]
  },
  {
   "cell_type": "markdown",
   "metadata": {},
   "source": [
    "**------------------------------------------------------------------------------------------------------------------------------------------------------------------------------------------------------------------**"
   ]
  },
  {
   "cell_type": "markdown",
   "metadata": {},
   "source": [
    "# Unit 2:Conditional Execution and iteration\n",
    "##### 1.)Simple if\n",
    "if condition:\n",
    "  \n",
    "    statement\n",
    "   "
   ]
  },
  {
   "cell_type": "code",
   "execution_count": 39,
   "metadata": {},
   "outputs": [
    {
     "name": "stdout",
     "output_type": "stream",
     "text": [
      "Enter Name:Arman\n",
      "Hello Arman\n",
      "How are you!\n"
     ]
    }
   ],
   "source": [
    "name=input(\"Enter Name:\")\n",
    "if name==\"Arman\":\n",
    "    print(\"Hello Arman\")\n",
    "print(\"How are you!\")"
   ]
  },
  {
   "cell_type": "markdown",
   "metadata": {},
   "source": [
    "##### 2.)if-else\n",
    "if condition:\n",
    "   \n",
    "    action-1\n",
    "  \n",
    "else:\n",
    "    \n",
    "    action-2"
   ]
  },
  {
   "cell_type": "code",
   "execution_count": 42,
   "metadata": {},
   "outputs": [
    {
     "name": "stdout",
     "output_type": "stream",
     "text": [
      "Enter Name:Arman\n",
      "Hello Arman\n",
      "Always printed\n"
     ]
    }
   ],
   "source": [
    "name=input(\"Enter Name:\")\n",
    "if name==\"Arman\":\n",
    "    print(\"Hello Arman\")\n",
    "else:\n",
    "    print(\"Hello\",name)\n",
    "print(\"Always printed\")"
   ]
  },
  {
   "cell_type": "markdown",
   "metadata": {},
   "source": [
    "##### 3.) if-elif-else\n",
    "if condition 1:\n",
    "    \n",
    "    action-1\n",
    "    \n",
    "elif conditon 2:\n",
    "\n",
    "    action-2\n",
    "    \n",
    "elif condition 3:\n",
    "\n",
    "    action-3\n",
    "    \n",
    "else:\n",
    "\n",
    "    default action"
   ]
  },
  {
   "cell_type": "code",
   "execution_count": 45,
   "metadata": {},
   "outputs": [
    {
     "name": "stdout",
     "output_type": "stream",
     "text": [
      "Enter num1:1\n",
      "Enter num2:1\n",
      "Enter num3:1\n",
      "Biggest num: 1\n"
     ]
    }
   ],
   "source": [
    "n1=int(input(\"Enter num1:\"))\n",
    "n2=int(input(\"Enter num2:\"))\n",
    "n3=int(input(\"Enter num3:\"))\n",
    "if n1>n2 and n1>n3:\n",
    "    print(\"Biggest num:\",n1)\n",
    "elif n2>n3 and n2>n1:\n",
    "     print(\"Biggest num:\",n2)\n",
    "else:\n",
    "     print(\"Biggest num:\",n3)"
   ]
  },
  {
   "cell_type": "markdown",
   "metadata": {},
   "source": [
    "##### 4.)Nested if\n"
   ]
  },
  {
   "cell_type": "code",
   "execution_count": 47,
   "metadata": {},
   "outputs": [
    {
     "name": "stdout",
     "output_type": "stream",
     "text": [
      "Above 10\n",
      "but not above 20\n"
     ]
    }
   ],
   "source": [
    "x=14\n",
    "if x>10:\n",
    "    print(\"Above 10\")\n",
    "    if x>20:\n",
    "        print(\"Also above 20\")\n",
    "    else:\n",
    "        print(\"but not above 20\")"
   ]
  },
  {
   "cell_type": "markdown",
   "metadata": {},
   "source": [
    "#### Loops\n",
    "###### 1.)For\n",
    "syntax: for x in sequence:\n",
    "            \n",
    "                   body\n"
   ]
  },
  {
   "cell_type": "code",
   "execution_count": 48,
   "metadata": {},
   "outputs": [
    {
     "name": "stdout",
     "output_type": "stream",
     "text": [
      "0\n",
      "1\n",
      "2\n",
      "3\n",
      "4\n"
     ]
    }
   ],
   "source": [
    "for i in range(5):\n",
    "    print(i)"
   ]
  },
  {
   "cell_type": "code",
   "execution_count": 51,
   "metadata": {},
   "outputs": [
    {
     "name": "stdout",
     "output_type": "stream",
     "text": [
      "A\n",
      "r\n",
      "m\n",
      "a\n",
      "n\n"
     ]
    },
    {
     "data": {
      "text/plain": [
       "5"
      ]
     },
     "execution_count": 51,
     "metadata": {},
     "output_type": "execute_result"
    }
   ],
   "source": [
    "s=\"Arman\"\n",
    "for i in s:\n",
    "    print(i)\n",
    "\n",
    "len(s)"
   ]
  },
  {
   "cell_type": "code",
   "execution_count": 58,
   "metadata": {},
   "outputs": [
    {
     "name": "stdout",
     "output_type": "stream",
     "text": [
      "1\n",
      "2\n",
      "3\n",
      "4\n",
      "5\n"
     ]
    },
    {
     "data": {
      "text/plain": [
       "5"
      ]
     },
     "execution_count": 58,
     "metadata": {},
     "output_type": "execute_result"
    }
   ],
   "source": [
    "l=[1,2,3,4,5]\n",
    "for i in l:\n",
    "    print(i)\n",
    "len(l)"
   ]
  },
  {
   "cell_type": "code",
   "execution_count": 56,
   "metadata": {},
   "outputs": [
    {
     "name": "stdout",
     "output_type": "stream",
     "text": [
      "1\n",
      "2\n",
      "3\n",
      "4\n",
      "5\n"
     ]
    }
   ],
   "source": [
    "for i in range(len(l)):\n",
    "    print(l[i])"
   ]
  },
  {
   "cell_type": "markdown",
   "metadata": {},
   "source": [
    "##### 2.)while\n",
    "syntax: while condition:\n",
    "\n",
    "                body"
   ]
  },
  {
   "cell_type": "code",
   "execution_count": 15,
   "metadata": {},
   "outputs": [
    {
     "name": "stdout",
     "output_type": "stream",
     "text": [
      "0\n",
      "1\n",
      "2\n",
      "3\n",
      "4\n"
     ]
    }
   ],
   "source": [
    "i=0\n",
    "while i<5:\n",
    "    print(i)\n",
    "    i+=1"
   ]
  },
  {
   "cell_type": "code",
   "execution_count": 4,
   "metadata": {},
   "outputs": [
    {
     "name": "stdout",
     "output_type": "stream",
     "text": [
      "Enter name:1\n",
      "Enter name:Armaan\n",
      "Enter name:Arman\n",
      "Thanks for confirmation.\n"
     ]
    }
   ],
   "source": [
    "name=\"\"\n",
    "while name!=\"Arman\":\n",
    "    name=input(\"Enter name:\")\n",
    "print(\"Thanks for confirmation.\")"
   ]
  },
  {
   "cell_type": "markdown",
   "metadata": {},
   "source": [
    "##### Nested loops"
   ]
  },
  {
   "cell_type": "code",
   "execution_count": 7,
   "metadata": {},
   "outputs": [
    {
     "name": "stdout",
     "output_type": "stream",
     "text": [
      "0 0\n",
      "0 1\n",
      "0 2\n",
      "1 0\n",
      "1 1\n",
      "1 2\n",
      "2 0\n",
      "2 1\n",
      "2 2\n"
     ]
    }
   ],
   "source": [
    "for i in range(3):\n",
    "    for j in range(3):\n",
    "        print(i,j)"
   ]
  },
  {
   "cell_type": "markdown",
   "metadata": {},
   "source": [
    "##### Break statement"
   ]
  },
  {
   "cell_type": "code",
   "execution_count": 11,
   "metadata": {},
   "outputs": [
    {
     "name": "stdout",
     "output_type": "stream",
     "text": [
      "0\n",
      "1\n",
      "2\n",
      "3\n",
      "4\n",
      "5\n",
      "6\n",
      "Stop\n"
     ]
    }
   ],
   "source": [
    "for i in range(10):\n",
    "    if(i==7):\n",
    "        print(\"Stop\")\n",
    "        break\n",
    "    print(i)"
   ]
  },
  {
   "cell_type": "markdown",
   "metadata": {},
   "source": [
    "#####  Continue Statement"
   ]
  },
  {
   "cell_type": "code",
   "execution_count": 18,
   "metadata": {},
   "outputs": [
    {
     "name": "stdout",
     "output_type": "stream",
     "text": [
      "1\n",
      "3\n",
      "5\n",
      "7\n",
      "9\n"
     ]
    }
   ],
   "source": [
    "for i in range(10):\n",
    "    if(i%2==0):\n",
    "        continue\n",
    "    print(i)"
   ]
  },
  {
   "cell_type": "markdown",
   "metadata": {},
   "source": [
    "#####  Pass statement"
   ]
  },
  {
   "cell_type": "code",
   "execution_count": 20,
   "metadata": {},
   "outputs": [],
   "source": [
    "if True:\n",
    "    pass"
   ]
  },
  {
   "cell_type": "markdown",
   "metadata": {},
   "source": [
    "##### Q.Write a program to check given character is vowel or consonant"
   ]
  },
  {
   "cell_type": "code",
   "execution_count": 22,
   "metadata": {},
   "outputs": [
    {
     "name": "stdout",
     "output_type": "stream",
     "text": [
      "Enter a character:k\n",
      "Entered character is not a vowel\n"
     ]
    }
   ],
   "source": [
    "character=input(\"Enter a character:\")\n",
    "if(character=='a' or character=='A' or character=='e'or character=='E' or character=='i' or character=='I' or character=='o'\n",
    "  or character=='O' or character=='u' or character=='U'):\n",
    "    print(\"Entered character is a vowel.\")\n",
    "else:\n",
    "    print(\"Entered character is not a vowel\")"
   ]
  },
  {
   "cell_type": "code",
   "execution_count": 43,
   "metadata": {},
   "outputs": [
    {
     "name": "stdout",
     "output_type": "stream",
     "text": [
      "Enter a character:g\n",
      "consonant\n"
     ]
    }
   ],
   "source": [
    "charact=input(\"Enter a character:\")\n",
    "l=['a','e','i','o','u','A','E','I','O','U']\n",
    "if charact in l:\n",
    "    print(\"vowel\")\n",
    "else:\n",
    "    print(\"consonant\")"
   ]
  },
  {
   "cell_type": "markdown",
   "metadata": {},
   "source": [
    "##### Program for calculator"
   ]
  },
  {
   "cell_type": "code",
   "execution_count": 54,
   "metadata": {},
   "outputs": [
    {
     "name": "stdout",
     "output_type": "stream",
     "text": [
      "Enter number 1:10\n",
      "Enter siymbol(+,-,*,/,//,%,**)**\n",
      "Enter number 2:2\n",
      "Power is: 100\n"
     ]
    }
   ],
   "source": [
    " a=int(input(\"Enter number 1:\"))\n",
    "s=input(\"Enter siymbol(+,-,*,/,//,%,**):\")\n",
    "b=int(input(\"Enter number 2:\"))\n",
    "if(s=='+'):\n",
    "    ans=a+b\n",
    "    print(\"Sum is:\",ans)\n",
    "elif(s=='-'):\n",
    "    ans=a-b\n",
    "    print(\"Difference is:\",ans)\n",
    "elif(s=='*'):\n",
    "    ans=a*b\n",
    "    print(\"Product is:\",ans)\n",
    "elif(s=='/'):\n",
    "    ans=a/b\n",
    "    print(\"Division is:\",ans)\n",
    "elif(s=='//'):\n",
    "    ans=a//b\n",
    "    print(\"Floor division is:\",ans)\n",
    "elif(s=='%'):\n",
    "    ans=a%b\n",
    "    print(\"Modulo is:\",ans)\n",
    "elif(s=='**'):\n",
    "    ans=a**b\n",
    "    print(\"Power is:\",ans)"
   ]
  },
  {
   "cell_type": "markdown",
   "metadata": {},
   "source": [
    "##### Q.Electricity Bill\n",
    "Unit .  price\n",
    "\n",
    "First 100 unit:No charge\n",
    "\n",
    "next 100 unit:Rs 5 per unit\n",
    "\n",
    "After 200 unit: Rs 10 per unit\n",
    "\n",
    "eg.350 units\n",
    "\n",
    "100 :free\n",
    "\n",
    "100-200:500\n",
    "\n",
    "200=350:1500\n",
    "\n",
    "total=2000"
   ]
  },
  {
   "cell_type": "code",
   "execution_count": 77,
   "metadata": {},
   "outputs": [
    {
     "name": "stdout",
     "output_type": "stream",
     "text": [
      "Enter units:145\n",
      "Bill : 225\n"
     ]
    }
   ],
   "source": [
    "unit=int(input(\"Enter units:\"))\n",
    "ans=0\n",
    "if(unit<100):\n",
    "    ans=0\n",
    "elif(unit>100 and unit<200):\n",
    "    ans=(unit-100)*(5)\n",
    "elif(unit>200):\n",
    "    ans=100*5\n",
    "    ans+=(unit-200)*(10)\n",
    "print(\"Bill :\",ans)"
   ]
  },
  {
   "cell_type": "markdown",
   "metadata": {},
   "source": [
    "#####  Q.Write a program to check given year is leap year or not"
   ]
  },
  {
   "cell_type": "code",
   "execution_count": 86,
   "metadata": {},
   "outputs": [
    {
     "name": "stdout",
     "output_type": "stream",
     "text": [
      "Enter year:2023\n",
      "Entered year is not leap year.\n"
     ]
    }
   ],
   "source": [
    "a=int(input(\"Enter year:\"))\n",
    "if((a%4==0 and a%100!=0) or a%400==0):\n",
    "    print(\"Entered year is leap year.\")\n",
    "else:\n",
    "    print(\"Entered year is not leap year.\")"
   ]
  },
  {
   "cell_type": "markdown",
   "metadata": {},
   "source": [
    "#####  Q.check for the number which is divisible by 3"
   ]
  },
  {
   "cell_type": "code",
   "execution_count": 89,
   "metadata": {},
   "outputs": [
    {
     "name": "stdout",
     "output_type": "stream",
     "text": [
      "Enter a number122\n",
      "Entered number's last digit is not divisible by 3.\n"
     ]
    }
   ],
   "source": [
    "a=int (input(\"Enter a number\"))\n",
    "if a%3==0:\n",
    "    print(\"Entered number's last digit is divisible by 3.\")\n",
    "else:\n",
    "     print(\"Entered number's last digit is not divisible by 3.\")"
   ]
  },
  {
   "cell_type": "markdown",
   "metadata": {},
   "source": [
    "##### Q.To check if the number is 3 digit and take input continuous if number has 3 digit then print middle digit"
   ]
  },
  {
   "cell_type": "code",
   "execution_count": null,
   "metadata": {},
   "outputs": [],
   "source": [
    "a=int(input(\"Enter a number\"))\n",
    "if(len(str(num)))!=3:\n",
    "    print(\"Number must be 3 digits\")\n",
    "else:\n",
    "    \n"
   ]
  }
 ],
 "metadata": {
  "kernelspec": {
   "display_name": "Python 3",
   "language": "python",
   "name": "python3"
  },
  "language_info": {
   "codemirror_mode": {
    "name": "ipython",
    "version": 3
   },
   "file_extension": ".py",
   "mimetype": "text/x-python",
   "name": "python",
   "nbconvert_exporter": "python",
   "pygments_lexer": "ipython3",
   "version": "3.8.5"
  }
 },
 "nbformat": 4,
 "nbformat_minor": 4
}
