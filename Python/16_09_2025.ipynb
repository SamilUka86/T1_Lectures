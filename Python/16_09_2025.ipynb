{
 "cells": [
  {
   "cell_type": "code",
   "execution_count": 6,
   "metadata": {},
   "outputs": [
    {
     "name": "stdout",
     "output_type": "stream",
     "text": [
      "30\n"
     ]
    }
   ],
   "source": [
    "a=10\n",
    "b=20\n",
    "c=a+b\n",
    "print(c)"
   ]
  },
  {
   "cell_type": "markdown",
   "metadata": {},
   "source": [
    "**Today is Tuesday**"
   ]
  },
  {
   "cell_type": "markdown",
   "metadata": {},
   "source": [
    "# Tuesday"
   ]
  },
  {
   "cell_type": "markdown",
   "metadata": {},
   "source": [
    "## Wednesday"
   ]
  },
  {
   "attachments": {
    "image.png": {
     "image/png": "[encoded data removed]"
    }
   },
   "cell_type": "markdown",
   "metadata": {},
   "source": [
    "# Identifiers\n",
    "-A name in python program is called identifier\n",
    "\n",
    "-class name,function name,module name,variable name\n",
    "\n",
    "eg.a=10\n",
    "\n",
    "a<- Identifier\n",
    "\n",
    "def test \n",
    "\n",
    "class car\n",
    "\n",
    "1.The only allowed characters in python are \n",
    "\n",
    "-alphabet symbol(a-z)\n",
    "\n",
    "-digits(0-9)\n",
    "\n",
    "-Underscore symbol(_)\n",
    "\n",
    "cash=100\n",
    "\n",
    "ca$h=100 : this will give syntax error\n",
    "\n",
    "2.Identifier should not start with digits\n",
    "\n",
    "total123=100 : this is valid\n",
    "\n",
    "123total=100 : this will give syntax error\n",
    "\n",
    "3.Identifiers are case sensitive\n",
    "\n",
    "eg.\n",
    "total=100\n",
    "Total=100\n",
    "TOTAL=100\n",
    "\n",
    "The all variables above will be considered different\n",
    "\n",
    "\n",
    "4.We can not use reserved keyword as identifiers\n",
    "\n",
    "def=10 : This will give syntax error as def is reserved keyword\n",
    "\n",
    "DEF=10 : This is valid\n",
    "\n",
    "Following are some keyword\n",
    "\n",
    "![image.png](attachment:image.png)\n",
    "\n",
    "\n",
    "5.There is no length limit for python identifier but not recommended to use too lengthy identifiers\n",
    "\n",
    "\n",
    "6.if identifiers starts with Underscore(_) then it is private\n",
    "\n",
    "eg.__a=10\n",
    "\n",
    "_a=10\n",
    "\n",
    "\n",
    "7.if identifiers starts with double underscore(__) then it is strongly private identifier \n",
    "\n",
    "eg.__a=10\n",
    "\n",
    "8.if identifier starts and ends with double underscore symbols then the identifier is language defined special name ,which is  also known as magic methods.\n",
    "\n",
    "eg.__add__(+)"
   ]
  },
  {
   "cell_type": "markdown",
   "metadata": {},
   "source": [
    "# Datatypes\n",
    "\n",
    "Text type- Str\n",
    "\n",
    "Numeric type-int,float\n",
    "\n",
    "sequence type-list,tuple,range\n",
    "\n",
    "mapping type-dict\n",
    "\n",
    "set types- set,frozenset\n",
    "\n",
    "boolean type-bool"
   ]
  },
  {
   "cell_type": "code",
   "execution_count": 22,
   "metadata": {},
   "outputs": [
    {
     "name": "stdout",
     "output_type": "stream",
     "text": [
      "python\n",
      "<class 'str'>\n"
     ]
    }
   ],
   "source": [
    "# *str\n",
    "s1='Arman'\n",
    "\n",
    "s1=\"Arman\"\n",
    "\n",
    "s1=\"\"\"Armaan python\"\"\"\n",
    "\n",
    "a=\"python\"\n",
    "\n",
    "print (a)\n",
    "print(type(a))"
   ]
  },
  {
   "cell_type": "code",
   "execution_count": 23,
   "metadata": {},
   "outputs": [
    {
     "name": "stdout",
     "output_type": "stream",
     "text": [
      "<class 'int'>\n"
     ]
    }
   ],
   "source": [
    "# 1.)int\n",
    "x=1\n",
    "y=3456789\n",
    "z=-3230584\n",
    "print(type(x))"
   ]
  },
  {
   "cell_type": "code",
   "execution_count": 24,
   "metadata": {},
   "outputs": [
    {
     "name": "stdout",
     "output_type": "stream",
     "text": [
      "15\n"
     ]
    }
   ],
   "source": [
    "# *binary\n",
    "a=0b1111 # or 0B1111\n",
    "print(a)\n"
   ]
  },
  {
   "cell_type": "markdown",
   "metadata": {},
   "source": [
    "\n",
    "**b=0b123**\n",
    "\n",
    "print(b):This gives syntax error as it is not a binary number"
   ]
  },
  {
   "cell_type": "code",
   "execution_count": 26,
   "metadata": {},
   "outputs": [
    {
     "name": "stdout",
     "output_type": "stream",
     "text": [
      "74\n"
     ]
    }
   ],
   "source": [
    "# *octal\n",
    "x=0o112\n",
    "print(x)"
   ]
  },
  {
   "cell_type": "code",
   "execution_count": 27,
   "metadata": {},
   "outputs": [
    {
     "name": "stdout",
     "output_type": "stream",
     "text": [
      "585\n"
     ]
    }
   ],
   "source": [
    "x=0o1111\n",
    "print(x)"
   ]
  },
  {
   "cell_type": "code",
   "execution_count": 28,
   "metadata": {},
   "outputs": [
    {
     "name": "stdout",
     "output_type": "stream",
     "text": [
      "43981\n"
     ]
    }
   ],
   "source": [
    "# *hex\n",
    "p=0xABCD #or 0XABCD\n",
    "print(p)"
   ]
  },
  {
   "cell_type": "markdown",
   "metadata": {},
   "source": [
    "# Base conversion\n",
    "\n",
    "## 1.bin()"
   ]
  },
  {
   "cell_type": "code",
   "execution_count": 37,
   "metadata": {},
   "outputs": [
    {
     "name": "stdout",
     "output_type": "stream",
     "text": [
      "0b1111\n",
      "0b1001\n",
      "0b10010\n"
     ]
    },
    {
     "data": {
      "text/plain": [
       "'0b1111'"
      ]
     },
     "execution_count": 37,
     "metadata": {},
     "output_type": "execute_result"
    }
   ],
   "source": [
    "print(bin(15))\n",
    "print(bin(0o11))\n",
    "print(bin(0x12))\n",
    "bin(15)"
   ]
  },
  {
   "cell_type": "code",
   "execution_count": 33,
   "metadata": {},
   "outputs": [
    {
     "name": "stdout",
     "output_type": "stream",
     "text": [
      "0b1111\n"
     ]
    }
   ],
   "source": [
    "print(bin(15))"
   ]
  },
  {
   "cell_type": "markdown",
   "metadata": {},
   "source": [
    "## 2.oct()\n",
    "\n",
    "## 3.hex()"
   ]
  },
  {
   "cell_type": "code",
   "execution_count": 39,
   "metadata": {},
   "outputs": [
    {
     "name": "stdout",
     "output_type": "stream",
     "text": [
      "0o17\n"
     ]
    }
   ],
   "source": [
    "print(oct(15))"
   ]
  },
  {
   "cell_type": "code",
   "execution_count": null,
   "metadata": {},
   "outputs": [],
   "source": []
  }
 ],
 "metadata": {
  "kernelspec": {
   "display_name": "Python 3",
   "language": "python",
   "name": "python3"
  },
  "language_info": {
   "codemirror_mode": {
    "name": "ipython",
    "version": 3
   },
   "file_extension": ".py",
   "mimetype": "text/x-python",
   "name": "python",
   "nbconvert_exporter": "python",
   "pygments_lexer": "ipython3",
   "version": "3.8.5"
  }
 },
 "nbformat": 4,
 "nbformat_minor": 4
}
