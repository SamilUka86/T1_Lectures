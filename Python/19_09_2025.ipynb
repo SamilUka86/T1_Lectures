{
 "cells": [
  {
   "cell_type": "markdown",
   "metadata": {},
   "source": [
    "## Comparison operators(Relational operator)\n",
    "\n",
    "- '>'(Greater than)\n",
    "\n",
    "- '<'(Less than)\n",
    "\n",
    "- '>='(Greater than or equal to)\n",
    "\n",
    "- '<='(Less than or equal to)\n",
    "\n",
    "- '=='(equal to)\n",
    "\n",
    "- '!='(not equal to)\n"
   ]
  },
  {
   "cell_type": "code",
   "execution_count": 2,
   "metadata": {},
   "outputs": [
    {
     "name": "stdout",
     "output_type": "stream",
     "text": [
      "False\n",
      "True\n",
      "False\n",
      "True\n",
      "False\n",
      "True\n"
     ]
    }
   ],
   "source": [
    "a=10\n",
    "b=20\n",
    "print(a>b)\n",
    "print(a<b)\n",
    "print(a>=b)\n",
    "print(a<=b)\n",
    "print(a==b)\n",
    "print(a!=b)\n",
    "\n",
    "\n"
   ]
  },
  {
   "cell_type": "code",
   "execution_count": 3,
   "metadata": {},
   "outputs": [
    {
     "name": "stdout",
     "output_type": "stream",
     "text": [
      "False\n",
      "True\n",
      "False\n",
      "True\n",
      "False\n",
      "True\n"
     ]
    }
   ],
   "source": [
    "a=\"Arman\"\n",
    "b=\"Aryan\"\n",
    "print(a>b)\n",
    "print(a<b)\n",
    "print(a>=b)\n",
    "print(a<=b)\n",
    "print(a==b)\n",
    "print(a!=b)\n"
   ]
  },
  {
   "cell_type": "code",
   "execution_count": 7,
   "metadata": {},
   "outputs": [
    {
     "name": "stdout",
     "output_type": "stream",
     "text": [
      "True\n",
      "\n",
      "True\n",
      "False\n"
     ]
    }
   ],
   "source": [
    "print(10<20)\n",
    "print(10<20<30)\n",
    "print(10<20<30>40<50)"
   ]
  },
  {
   "cell_type": "markdown",
   "metadata": {},
   "source": [
    "## Logical operators\n",
    "#### (AND,OR,NOT)\n",
    "\n",
    "##### 1.)Boolean type behaviour\n",
    "\n",
    "- and->if both arguments are True then only result is True else False\n",
    "\n",
    "- or->if atleast one argument is True then result is True\n",
    "\n",
    "- not->complement\n",
    "\n"
   ]
  },
  {
   "cell_type": "code",
   "execution_count": 8,
   "metadata": {},
   "outputs": [
    {
     "name": "stdout",
     "output_type": "stream",
     "text": [
      "False\n",
      "True\n",
      "False\n",
      "True\n"
     ]
    }
   ],
   "source": [
    "print(True and False)\n",
    "print(True or False)\n",
    "print(not True)\n",
    "print(not False)"
   ]
  },
  {
   "cell_type": "markdown",
   "metadata": {},
   "source": [
    "##### 2.)Non-Boolean type behaviour\n",
    "- 0 means False\n",
    "\n",
    "- non-zero means True\n",
    "\n",
    "- empy string False\n",
    "\n",
    "- x and y ->if x evaluates to False then return x otherwise return y\n"
   ]
  },
  {
   "cell_type": "code",
   "execution_count": 35,
   "metadata": {},
   "outputs": [
    {
     "name": "stdout",
     "output_type": "stream",
     "text": [
      "20\n",
      "0\n",
      "20\n"
     ]
    }
   ],
   "source": [
    "print( 10 and 20)\n",
    "print(0 and 20)\n",
    "print(1 and 20)"
   ]
  },
  {
   "cell_type": "markdown",
   "metadata": {},
   "source": [
    "- x or y ->if x is evaluates to True then result is x otherwise result is y"
   ]
  },
  {
   "cell_type": "code",
   "execution_count": 13,
   "metadata": {},
   "outputs": [
    {
     "name": "stdout",
     "output_type": "stream",
     "text": [
      "20\n",
      "1\n"
     ]
    }
   ],
   "source": [
    "print(0 or 20)\n",
    "print(1 or 2)"
   ]
  },
  {
   "cell_type": "markdown",
   "metadata": {},
   "source": [
    "##  Ternary or conditional operator\n",
    "\n",
    "- x =first value if condition else second value \n",
    "\n",
    "- if condition True then first value will be considered else second value will be considered\n",
    "\n"
   ]
  },
  {
   "cell_type": "code",
   "execution_count": 15,
   "metadata": {},
   "outputs": [
    {
     "name": "stdout",
     "output_type": "stream",
     "text": [
      "30\n"
     ]
    }
   ],
   "source": [
    "a=10\n",
    "b=20\n",
    "x=30 if a>b else 40\n",
    "print(x)"
   ]
  },
  {
   "cell_type": "markdown",
   "metadata": {},
   "source": [
    "## Assignment operators\n",
    "-  we can use assignment operator to assign value to the variable"
   ]
  },
  {
   "cell_type": "code",
   "execution_count": 16,
   "metadata": {},
   "outputs": [
    {
     "name": "stdout",
     "output_type": "stream",
     "text": [
      "10\n",
      "20\n",
      "10\n",
      "100\n",
      "10.0\n",
      "0.0\n",
      "0.0\n",
      "0.0\n"
     ]
    }
   ],
   "source": [
    "x=10\n",
    "print(x)\n",
    "x+=10\n",
    "print(x)\n",
    "x-=10\n",
    "print(x)\n",
    "x*=10\n",
    "print(x)\n",
    "x/=10\n",
    "print(x)\n",
    "x%=10\n",
    "print(x)\n",
    "x//=10\n",
    "print(x)\n",
    "x**=10\n",
    "print(x)"
   ]
  },
  {
   "cell_type": "markdown",
   "metadata": {},
   "source": [
    "## Membership operation\n",
    "- To check wether the given object is present in the given collection(string,list,tuple,dict,set)\n",
    "\n",
    "- in->returns True if given object present in the specified collection\n",
    "\n",
    "- not in->returns True if given object present in the specified collection\n"
   ]
  },
  {
   "cell_type": "code",
   "execution_count": 21,
   "metadata": {},
   "outputs": [
    {
     "name": "stdout",
     "output_type": "stream",
     "text": [
      "True\n",
      "True\n",
      "False\n",
      "True\n"
     ]
    }
   ],
   "source": [
    "x=\"Hello learning python is very easy\"\n",
    "print(\"i\" in x)\n",
    "print(\"python\" in x)\n",
    "print(\"d\" in x)\n",
    "print(\"d\" not in x)"
   ]
  },
  {
   "cell_type": "code",
   "execution_count": 27,
   "metadata": {},
   "outputs": [
    {
     "name": "stdout",
     "output_type": "stream",
     "text": [
      "3\n"
     ]
    }
   ],
   "source": [
    "print(7 and 0 or 5 and 3 or 7/0)\n"
   ]
  },
  {
   "cell_type": "markdown",
   "metadata": {},
   "source": [
    "print(7 and 0 or 5 and 3 and 7/0)"
   ]
  },
  {
   "cell_type": "code",
   "execution_count": 34,
   "metadata": {},
   "outputs": [
    {
     "name": "stdout",
     "output_type": "stream",
     "text": [
      "True\n"
     ]
    }
   ],
   "source": [
    "print(5==5.0 or 10 and 5 or 5==5.0 and 7!=7.0)"
   ]
  },
  {
   "cell_type": "code",
   "execution_count": 32,
   "metadata": {},
   "outputs": [
    {
     "name": "stdout",
     "output_type": "stream",
     "text": [
      "7.0\n",
      "5\n"
     ]
    }
   ],
   "source": [
    "a=5\n",
    "p=7\n",
    "a+=p\n",
    "a-=p\n",
    "p*=a\n",
    "p/=a\n",
    "print(p)\n",
    "print(a)"
   ]
  },
  {
   "cell_type": "code",
   "execution_count": 40,
   "metadata": {},
   "outputs": [
    {
     "name": "stdout",
     "output_type": "stream",
     "text": [
      "This is false\n"
     ]
    }
   ],
   "source": [
    "new=(1 and \"True\") and (\"False\" or Train)\n",
    "str=\"This statement is\"+new\n",
    "print(\"This is false\" if \"False\" in new else \"This is true\")"
   ]
  },
  {
   "cell_type": "markdown",
   "metadata": {},
   "source": [
    "#### ord():converts character to ASCII\n",
    "#### chr():converts ASCII to character"
   ]
  },
  {
   "cell_type": "code",
   "execution_count": 44,
   "metadata": {},
   "outputs": [
    {
     "name": "stdout",
     "output_type": "stream",
     "text": [
      "35\n",
      "A\n"
     ]
    }
   ],
   "source": [
    "print(ord('a'))\n",
    "print(chr(65))"
   ]
  },
  {
   "cell_type": "code",
   "execution_count": 46,
   "metadata": {},
   "outputs": [
    {
     "name": "stdout",
     "output_type": "stream",
     "text": [
      "A\n",
      "B\n",
      "C\n",
      "D\n",
      "E\n",
      "F\n",
      "G\n",
      "H\n",
      "I\n",
      "J\n",
      "K\n",
      "L\n",
      "M\n",
      "N\n",
      "O\n",
      "P\n",
      "Q\n",
      "R\n",
      "S\n",
      "T\n",
      "U\n",
      "V\n",
      "W\n",
      "X\n",
      "Y\n",
      "Z\n"
     ]
    }
   ],
   "source": [
    "for i in range (65,91):\n",
    "    print((chr(i)))"
   ]
  },
  {
   "cell_type": "code",
   "execution_count": 47,
   "metadata": {},
   "outputs": [
    {
     "name": "stdout",
     "output_type": "stream",
     "text": [
      "A\n",
      "B\n",
      "C\n",
      "D\n",
      "E\n",
      "F\n",
      "G\n",
      "H\n",
      "I\n",
      "J\n",
      "K\n",
      "L\n",
      "M\n",
      "N\n",
      "O\n",
      "P\n",
      "Q\n",
      "R\n",
      "S\n",
      "T\n",
      "U\n",
      "V\n",
      "W\n",
      "X\n",
      "Y\n",
      "Z\n"
     ]
    }
   ],
   "source": [
    "for i in range (26):\n",
    "    print(chr(65+i))"
   ]
  },
  {
   "cell_type": "markdown",
   "metadata": {},
   "source": [
    "##### Q.Write a python program to convert given days into year,month and days"
   ]
  },
  {
   "cell_type": "code",
   "execution_count": 5,
   "metadata": {},
   "outputs": [
    {
     "name": "stdout",
     "output_type": "stream",
     "text": [
      "Enter number of days:450\n",
      "Year 1 Month 2 Days 25\n"
     ]
    }
   ],
   "source": [
    "no_of_days=int(input(\"Enter number of days:\"))\n",
    "year=(no_of_days//365)\n",
    "left_days=no_of_days%365\n",
    "month=int(left_days/30)\n",
    "days=left_days%30\n",
    "print(\"Year\",year,\"Month\",month,\"Days\",days)"
   ]
  },
  {
   "cell_type": "markdown",
   "metadata": {},
   "source": [
    "##### Q.Avaialble denominations\n",
    "Amount->880"
   ]
  },
  {
   "cell_type": "code",
   "execution_count": 12,
   "metadata": {},
   "outputs": [
    {
     "name": "stdout",
     "output_type": "stream",
     "text": [
      "Enter amount:1020\n",
      "500 2\n",
      "200 0\n",
      "100 0\n",
      "50 0\n",
      "20 1\n",
      "10 0\n"
     ]
    }
   ],
   "source": [
    "amount =int(input(\"Enter amount:\"))\n",
    "note500=amount//500\n",
    "note200=(amount%500)//200\n",
    "note100=((amount%500)%200)//100\n",
    "note50=(((amount%500)%200)%100)//50\n",
    "note20=((((amount%500)%200)%100)%50)//20\n",
    "note10=(((((amount%500)%200)%100)%50)%20)//10\n",
    "\n",
    "print(\"500\",note500)\n",
    "print(\"200\",note200)\n",
    "print(\"100\",note100)\n",
    "print(\"50\",note50)\n",
    "print(\"20\",note20)\n",
    "print(\"10\",note10)"
   ]
  },
  {
   "cell_type": "code",
   "execution_count": null,
   "metadata": {},
   "outputs": [],
   "source": []
  }
 ],
 "metadata": {
  "kernelspec": {
   "display_name": "Python 3",
   "language": "python",
   "name": "python3"
  },
  "language_info": {
   "codemirror_mode": {
    "name": "ipython",
    "version": 3
   },
   "file_extension": ".py",
   "mimetype": "text/x-python",
   "name": "python",
   "nbconvert_exporter": "python",
   "pygments_lexer": "ipython3",
   "version": "3.8.5"
  }
 },
 "nbformat": 4,
 "nbformat_minor": 4
}
