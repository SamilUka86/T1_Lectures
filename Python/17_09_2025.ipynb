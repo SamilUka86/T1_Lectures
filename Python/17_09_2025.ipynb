{
 "cells": [
  {
   "cell_type": "code",
   "execution_count": 2,
   "metadata": {},
   "outputs": [
    {
     "name": "stdout",
     "output_type": "stream",
     "text": [
      "<class 'float'>\n",
      "<class 'float'>\n",
      "<class 'float'>\n",
      "<class 'float'>\n",
      "<class 'float'>\n"
     ]
    }
   ],
   "source": [
    "# 2.)float\n",
    "x=1.20\n",
    "y=1.0\n",
    "z=-34.58\n",
    "print(type(x))\n",
    "print(type(y))\n",
    "print(type(z))\n",
    "a=36e3\n",
    "b=11E4\n",
    "print(type(a))\n",
    "print(type(b))"
   ]
  },
  {
   "cell_type": "markdown",
   "metadata": {},
   "source": [
    "# Sequence type\n",
    "\n",
    "### 1.)List\n",
    "\n",
    "- to store multiple items in single variable \n",
    "\n",
    "- ordered,changeable & allow duplicate values\n",
    "\n",
    "- indexed\n",
    "\n",
    "- **square** brackets\n"
   ]
  },
  {
   "cell_type": "code",
   "execution_count": 3,
   "metadata": {},
   "outputs": [
    {
     "name": "stdout",
     "output_type": "stream",
     "text": [
      "['apple', 'banana', 'cherry']\n",
      "<class 'list'>\n",
      "['abc', 35, 'xyz', True, False]\n",
      "[3, 3, 4, 4, 5, 6, 7, 1, 2]\n"
     ]
    }
   ],
   "source": [
    "l=[\"apple\",\"banana\",\"cherry\"]\n",
    "print(l)\n",
    "print(type(l))\n",
    "l1=[\"abc\",35,\"xyz\",True,False]\n",
    "print(l1)\n",
    "l2=[3,3,4,4,5,6,7,1,2]\n",
    "print(l2)"
   ]
  },
  {
   "cell_type": "markdown",
   "metadata": {},
   "source": [
    "### 2.)Tuple\n",
    "\n",
    "- to store multiple items in a single variable\n",
    "\n",
    "- ordered,unchangeable,allow duplicate values\n",
    "\n",
    "- indexed\n",
    "\n",
    "- **round** brackets"
   ]
  },
  {
   "cell_type": "code",
   "execution_count": 10,
   "metadata": {},
   "outputs": [
    {
     "name": "stdout",
     "output_type": "stream",
     "text": [
      "('apple', 'banana', 'cherry')\n",
      "<class 'tuple'>\n",
      "('abc', 35, 'xyz', True, False)\n",
      "(12, 2, 3, 3, 4, 5)\n"
     ]
    }
   ],
   "source": [
    "t=(\"apple\",\"banana\",\"cherry\")\n",
    "print(t)\n",
    "print(type(t))\n",
    "t1=(\"abc\",35,\"xyz\",True,False)\n",
    "print(t1)\n",
    "t2=(12,2,3,3,4,5)\n",
    "print(t2)\n"
   ]
  },
  {
   "cell_type": "markdown",
   "metadata": {},
   "source": [
    "### 3.)Range(x)\n",
    "\n",
    "->it will give numbers from 0 to x-1"
   ]
  },
  {
   "cell_type": "code",
   "execution_count": 11,
   "metadata": {},
   "outputs": [
    {
     "name": "stdout",
     "output_type": "stream",
     "text": [
      "range(0, 3)\n",
      "<class 'range'>\n"
     ]
    }
   ],
   "source": [
    "x=range(3)\n",
    "print(x)\n",
    "print(type(x))"
   ]
  },
  {
   "cell_type": "code",
   "execution_count": 12,
   "metadata": {
    "scrolled": true
   },
   "outputs": [
    {
     "name": "stdout",
     "output_type": "stream",
     "text": [
      "0\n",
      "1\n",
      "2\n"
     ]
    }
   ],
   "source": [
    "for i in range(3):\n",
    "    print(i)"
   ]
  },
  {
   "cell_type": "markdown",
   "metadata": {},
   "source": [
    "range(start,end,step);where step is the number of digits it will skip"
   ]
  },
  {
   "cell_type": "code",
   "execution_count": 23,
   "metadata": {},
   "outputs": [
    {
     "name": "stdout",
     "output_type": "stream",
     "text": [
      "0\n",
      "1\n",
      "2\n",
      "3\n",
      "4\n"
     ]
    }
   ],
   "source": [
    "for i in range(0,5):\n",
    "    print(i)"
   ]
  },
  {
   "cell_type": "code",
   "execution_count": 21,
   "metadata": {},
   "outputs": [
    {
     "name": "stdout",
     "output_type": "stream",
     "text": [
      "1\n",
      "3\n",
      "5\n",
      "7\n",
      "9\n"
     ]
    }
   ],
   "source": [
    "for i in range(1,10,2):\n",
    "    print(i)"
   ]
  },
  {
   "cell_type": "code",
   "execution_count": 28,
   "metadata": {},
   "outputs": [],
   "source": [
    "for i in range(2,10,-1):\n",
    "    print(i)"
   ]
  },
  {
   "cell_type": "code",
   "execution_count": 27,
   "metadata": {},
   "outputs": [
    {
     "name": "stdout",
     "output_type": "stream",
     "text": [
      "10\n",
      "8\n",
      "6\n",
      "4\n",
      "2\n"
     ]
    }
   ],
   "source": [
    "for i in range(10,1,-2):\n",
    "    print(i)"
   ]
  },
  {
   "cell_type": "code",
   "execution_count": 29,
   "metadata": {},
   "outputs": [],
   "source": [
    "for i in range(-10,-1,-2):\n",
    "    print(i)"
   ]
  },
  {
   "cell_type": "code",
   "execution_count": 30,
   "metadata": {},
   "outputs": [
    {
     "name": "stdout",
     "output_type": "stream",
     "text": [
      "-10\n",
      "-8\n",
      "-6\n",
      "-4\n",
      "-2\n"
     ]
    }
   ],
   "source": [
    "for i in range(-10,-1,2):\n",
    "    print(i)"
   ]
  },
  {
   "cell_type": "code",
   "execution_count": 31,
   "metadata": {},
   "outputs": [
    {
     "name": "stdout",
     "output_type": "stream",
     "text": [
      "-10\n",
      "-9\n",
      "-8\n",
      "-7\n",
      "-6\n",
      "-5\n",
      "-4\n",
      "-3\n",
      "-2\n"
     ]
    }
   ],
   "source": [
    "for i in range(-10,-1):\n",
    "    print(i)"
   ]
  },
  {
   "cell_type": "markdown",
   "metadata": {},
   "source": [
    "# Mapping type\n",
    "\n",
    "## 1.)dict\n",
    "\n",
    "- ordered\n",
    "\n",
    "- changeable\n",
    "\n",
    "- does not allow duplicates\n",
    "\n",
    "- key-value pairs\n",
    "\n",
    "- **curly** brackets with key-value pairs"
   ]
  },
  {
   "cell_type": "code",
   "execution_count": 38,
   "metadata": {},
   "outputs": [
    {
     "name": "stdout",
     "output_type": "stream",
     "text": [
      "{10: [1, 2, 3, 4, 5], 20: 'Aryan', 30: (2, 3, 3, 2)}\n",
      "[1, 2, 3, 4, 5]\n",
      "<class 'dict'>\n",
      "<class 'list'>\n",
      "<class 'tuple'>\n"
     ]
    }
   ],
   "source": [
    "d={10:[1,2,3,4,5],20:\"Arman\",30:(2,3,3,2),20:\"Aryan\"}\n",
    "print(d)\n",
    "print(d[10])\n",
    "print(type(d))\n",
    "print(type(d[10]))\n",
    "print(type(d[30]))"
   ]
  },
  {
   "cell_type": "markdown",
   "metadata": {},
   "source": [
    "# Set type\n",
    "\n",
    "## 1.set\n",
    "\n",
    "+ unordered,unindexed\n",
    "\n",
    "- does not allow duplicates\n",
    "\n",
    "- **curly** brackets\n"
   ]
  },
  {
   "cell_type": "code",
   "execution_count": 41,
   "metadata": {},
   "outputs": [
    {
     "name": "stdout",
     "output_type": "stream",
     "text": [
      "{'banana', 'cherry', 'apple'}\n",
      "<class 'set'>\n"
     ]
    }
   ],
   "source": [
    "s={\"apple\",\"banana\",\"cherry\",\"apple\"}\n",
    "print(s)\n",
    "print(type(s))"
   ]
  },
  {
   "cell_type": "markdown",
   "metadata": {},
   "source": [
    "## 2.frozenset()\n",
    "\n",
    "- it is immutable version of set"
   ]
  },
  {
   "cell_type": "markdown",
   "metadata": {},
   "source": [
    "# Boolean type:\n",
    "\n",
    "#### bool-> **True or False**\n",
    "\n"
   ]
  },
  {
   "cell_type": "code",
   "execution_count": 49,
   "metadata": {},
   "outputs": [
    {
     "name": "stdout",
     "output_type": "stream",
     "text": [
      "20>8: True\n",
      "20==8: False\n",
      "20<8: False\n",
      "bool(\"abc\"): True\n",
      "bool(): False\n",
      "bool(123): True\n",
      "bool([\"abc\",\"xyz\"]): True\n",
      "bool(0): False\n",
      "bool(0.0): False\n",
      "bool(1): True\n",
      "bool(): True\n"
     ]
    }
   ],
   "source": [
    "print(\"20>8:\",20>8)\n",
    "print(\"20==8:\",20==8)\n",
    "print(\"20<8:\",20<8)\n",
    "print(\"\"\"bool(\"abc\"):\"\"\",bool(\"abc\"))\n",
    "print(\"bool(\"\"):\",bool(\"\"))\n",
    "print(\"bool(123):\",bool(123))\n",
    "print(\"\"\"bool([\"abc\",\"xyz\"]):\"\"\",bool([\"abc\",\"xyz\"]))\n",
    "print(\"bool(0):\",bool(0))\n",
    "print(\"bool(0.0):\",bool(0.0))\n",
    "print(\"bool(1):\",bool(1))\n",
    "print(\"bool(\" \"):\",bool(\" \"))\n"
   ]
  },
  {
   "cell_type": "code",
   "execution_count": 51,
   "metadata": {},
   "outputs": [
    {
     "name": "stdout",
     "output_type": "stream",
     "text": [
      "<class 'tuple'>\n"
     ]
    }
   ],
   "source": [
    "x=1,2,3  #by default it will be considered tuple\n",
    "print(type(x))"
   ]
  },
  {
   "cell_type": "markdown",
   "metadata": {},
   "source": [
    "# Global variable and Local variable\n",
    "\n",
    "\n"
   ]
  },
  {
   "cell_type": "code",
   "execution_count": 58,
   "metadata": {},
   "outputs": [
    {
     "name": "stdout",
     "output_type": "stream",
     "text": [
      "java\n",
      "python\n"
     ]
    }
   ],
   "source": [
    "a=\"python\" #->Global\n",
    "def test():\n",
    "    a=\"java\" #->Local\n",
    "    print(a)\n",
    "test()\n",
    "print(a)"
   ]
  },
  {
   "cell_type": "code",
   "execution_count": 61,
   "metadata": {},
   "outputs": [
    {
     "name": "stdout",
     "output_type": "stream",
     "text": [
      "java\n",
      "java\n"
     ]
    }
   ],
   "source": [
    "a=\"python\" #->Global\n",
    "def test():\n",
    "    global a\n",
    "    a=\"java\" #->Local\n",
    "    print(a)\n",
    "test()\n",
    "print(a)"
   ]
  },
  {
   "cell_type": "code",
   "execution_count": 62,
   "metadata": {},
   "outputs": [
    {
     "name": "stdout",
     "output_type": "stream",
     "text": [
      "python\n",
      "java\n"
     ]
    }
   ],
   "source": [
    "a=\"python\" #->Global\n",
    "def test():\n",
    "    global a\n",
    "    a=\"java\" #->Local\n",
    "    print(a)\n",
    "print(a)\n",
    "test()"
   ]
  },
  {
   "cell_type": "markdown",
   "metadata": {},
   "source": [
    "# Comments:\n"
   ]
  },
  {
   "cell_type": "code",
   "execution_count": 65,
   "metadata": {},
   "outputs": [
    {
     "name": "stdout",
     "output_type": "stream",
     "text": [
      "30\n",
      "hello\n"
     ]
    }
   ],
   "source": [
    "# This is comment\n",
    "a=10\n",
    "b=20\n",
    "c=a+b   #addition\n",
    "print(c) # print output\n",
    "\n",
    "\"\"\"multiline \n",
    " comment\"\"\"\n",
    "print(\"hello\")"
   ]
  },
  {
   "cell_type": "markdown",
   "metadata": {},
   "source": [
    "# Reading input from user"
   ]
  },
  {
   "cell_type": "code",
   "execution_count": 76,
   "metadata": {},
   "outputs": [
    {
     "name": "stdout",
     "output_type": "stream",
     "text": [
      "Enter username:1ad\n",
      "The username is: 1ad\n"
     ]
    }
   ],
   "source": [
    "user=input(\"Enter username:\")\n",
    "print(\"The username is:\",user)"
   ]
  },
  {
   "cell_type": "code",
   "execution_count": 73,
   "metadata": {},
   "outputs": [
    {
     "name": "stdout",
     "output_type": "stream",
     "text": [
      "Enter num1:10\n",
      "Enter num2:20\n",
      "1020\n"
     ]
    }
   ],
   "source": [
    "a=input(\"Enter num1:\")\n",
    "b=input(\"Enter num2:\")\n",
    "c=a+b\n",
    "print(c)"
   ]
  },
  {
   "cell_type": "code",
   "execution_count": 74,
   "metadata": {},
   "outputs": [
    {
     "name": "stdout",
     "output_type": "stream",
     "text": [
      "Enter num1:10\n",
      "Enter num2:20\n",
      "30\n"
     ]
    }
   ],
   "source": [
    "a=int(input(\"Enter num1:\"))\n",
    "b=int(input(\"Enter num2:\"))\n",
    "c=a+b\n",
    "print(c)"
   ]
  },
  {
   "cell_type": "markdown",
   "metadata": {},
   "source": [
    "# Type casting\n",
    "### 1.)int"
   ]
  },
  {
   "cell_type": "code",
   "execution_count": 81,
   "metadata": {},
   "outputs": [
    {
     "name": "stdout",
     "output_type": "stream",
     "text": [
      "123\n",
      "1\n",
      "0\n",
      "10\n",
      "15\n"
     ]
    }
   ],
   "source": [
    "print(int(123.987))\n",
    "print(int(True))\n",
    "print(int(False))\n",
    "print(int(\"10\"))\n",
    "#print(int(\"10.5\"))\n",
    "#print(int(\"ten\"))\n",
    "#print(int(\"0B1111\"))\n",
    "print(int(0B1111))\n"
   ]
  },
  {
   "cell_type": "markdown",
   "metadata": {},
   "source": [
    "### 2.)float"
   ]
  },
  {
   "cell_type": "code",
   "execution_count": 84,
   "metadata": {},
   "outputs": [
    {
     "name": "stdout",
     "output_type": "stream",
     "text": [
      "123.987\n",
      "1.0\n",
      "0.0\n",
      "10.0\n",
      "10.5\n",
      "15.0\n"
     ]
    }
   ],
   "source": [
    "print(float(123.987))\n",
    "print(float(True))\n",
    "print(float(False))\n",
    "print(float(\"10\"))\n",
    "print(float(\"10.5\"))\n",
    "# print(float(\"ten\"))\n",
    "# print(float(\"0B1111\"))\n",
    "print(float(0B1111))\n"
   ]
  },
  {
   "cell_type": "markdown",
   "metadata": {},
   "source": [
    "### 3.)bool"
   ]
  },
  {
   "cell_type": "code",
   "execution_count": 87,
   "metadata": {},
   "outputs": [
    {
     "name": "stdout",
     "output_type": "stream",
     "text": [
      "1 . False\n",
      "2 . True\n",
      "3 . True\n",
      "4 . True\n",
      "5 . True\n",
      "6 . False\n",
      "7 . True\n",
      "8 . False\n",
      "9 . True\n",
      "10. True\n"
     ]
    }
   ],
   "source": [
    "print(\"1.\",bool(0))\n",
    "print(\"2.\",bool(1))\n",
    "print(\"3.\",bool(10))\n",
    "print(\"4.\",bool(10.5))\n",
    "print(\"5.\",bool(0.178))\n",
    "print(\"6.\",bool(0.0))\n",
    "print(\"7.\",bool(True))\n",
    "print(\"8.\",bool(False))\n",
    "print(\"9.\",bool(\"True\"))\n",
    "print(\"10.\",bool(\"False\"))\n"
   ]
  },
  {
   "cell_type": "markdown",
   "metadata": {},
   "source": [
    "### 4.)str"
   ]
  },
  {
   "cell_type": "code",
   "execution_count": 91,
   "metadata": {},
   "outputs": [
    {
     "name": "stdout",
     "output_type": "stream",
     "text": [
      "10\n",
      "10.5\n",
      "True\n",
      "False\n"
     ]
    },
    {
     "data": {
      "text/plain": [
       "'10'"
      ]
     },
     "execution_count": 91,
     "metadata": {},
     "output_type": "execute_result"
    }
   ],
   "source": [
    "print(str(10))\n",
    "print(str(10.5))\n",
    "print(str(True))\n",
    "print(str(False))\n",
    "str(10)"
   ]
  },
  {
   "cell_type": "markdown",
   "metadata": {},
   "source": [
    "# Python operators\n",
    "\n",
    "### 1.)Arithmetic operators\n",
    "\n",
    "- Addition(+) [strt->string concatenation]\n",
    "\n",
    "- Subtraction(-)\n",
    "\n",
    "- Multiplication(*) [str->string multiplication]\n",
    "\n",
    "- Division(/)\n",
    "\n",
    "- Modulus(%)\n",
    "\n",
    "- Floor division(//)\n",
    "\n",
    "- Exponent or power(**)"
   ]
  },
  {
   "cell_type": "code",
   "execution_count": 101,
   "metadata": {},
   "outputs": [
    {
     "name": "stdout",
     "output_type": "stream",
     "text": [
      "Enter num1:50\n",
      "Enter num2:5\n",
      "Addition: 55\n",
      "Subtraction: 45\n",
      "Multiplication: 250\n",
      "Division: 10.0\n",
      "Modulus: 0\n",
      "Floor Division: 10\n",
      "Exponent or power: 312500000\n"
     ]
    }
   ],
   "source": [
    "a=int(input(\"Enter num1:\"))\n",
    "b=int(input(\"Enter num2:\"))\n",
    "print(\"Addition:\",a+b)\n",
    "print(\"Subtraction:\",a-b)\n",
    "print(\"Multiplication:\",a*b)\n",
    "print(\"Division:\",a/b)\n",
    "print(\"Modulus:\",a%b)\n",
    "print(\"Floor Division:\",a//b)\n",
    "print(\"Exponent or power:\",a**b)"
   ]
  },
  {
   "cell_type": "code",
   "execution_count": 107,
   "metadata": {},
   "outputs": [
    {
     "name": "stdout",
     "output_type": "stream",
     "text": [
      "55555\n"
     ]
    }
   ],
   "source": [
    "print(\"5\"*5)"
   ]
  },
  {
   "cell_type": "code",
   "execution_count": 114,
   "metadata": {},
   "outputs": [
    {
     "name": "stdout",
     "output_type": "stream",
     "text": [
      "2.4\n",
      "2\n",
      "2.0\n",
      "2.0\n",
      "2.0\n"
     ]
    }
   ],
   "source": [
    "print(12/5.0)\n",
    "print(12//5)\n",
    "print(12//5.0)\n",
    "print(12.0//5)\n",
    "print(12.0//5.0)"
   ]
  },
  {
   "cell_type": "code",
   "execution_count": 115,
   "metadata": {},
   "outputs": [
    {
     "data": {
      "text/plain": [
       "90"
      ]
     },
     "execution_count": 115,
     "metadata": {},
     "output_type": "execute_result"
    }
   ],
   "source": [
    "(6+3)*(4+6)"
   ]
  },
  {
   "cell_type": "code",
   "execution_count": 116,
   "metadata": {},
   "outputs": [
    {
     "data": {
      "text/plain": [
       "24"
      ]
     },
     "execution_count": 116,
     "metadata": {},
     "output_type": "execute_result"
    }
   ],
   "source": [
    "6+3*4+6"
   ]
  },
  {
   "attachments": {
    "image-2.png": {
     "image/png": "[encoded data removed]"
    }
   },
   "cell_type": "markdown",
   "metadata": {},
   "source": [
    "![image-2.png](attachment:image-2.png)"
   ]
  },
  {
   "cell_type": "code",
   "execution_count": 117,
   "metadata": {},
   "outputs": [
    {
     "data": {
      "text/plain": [
       "3433683820292512484657849089281"
      ]
     },
     "execution_count": 117,
     "metadata": {},
     "output_type": "execute_result"
    }
   ],
   "source": [
    "3**(2*2)**3"
   ]
  },
  {
   "cell_type": "code",
   "execution_count": null,
   "metadata": {},
   "outputs": [],
   "source": []
  }
 ],
 "metadata": {
  "kernelspec": {
   "display_name": "Python 3",
   "language": "python",
   "name": "python3"
  },
  "language_info": {
   "codemirror_mode": {
    "name": "ipython",
    "version": 3
   },
   "file_extension": ".py",
   "mimetype": "text/x-python",
   "name": "python",
   "nbconvert_exporter": "python",
   "pygments_lexer": "ipython3",
   "version": "3.8.5"
  }
 },
 "nbformat": 4,
 "nbformat_minor": 4
}
