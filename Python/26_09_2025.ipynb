{
 "cells": [
  {
   "cell_type": "markdown",
   "metadata": {},
   "source": [
    "#####  Q.Happy number"
   ]
  },
  {
   "cell_type": "code",
   "execution_count": 4,
   "metadata": {},
   "outputs": [
    {
     "name": "stdout",
     "output_type": "stream",
     "text": [
      "Enter number:41\n",
      "41\n",
      "17\n",
      "50\n",
      "25\n",
      "29\n",
      "85\n",
      "89\n",
      "145\n",
      "42\n",
      "20\n",
      "41 is not a Happy number\n"
     ]
    }
   ],
   "source": [
    "n=int(input(\"Enter number:\"))\n",
    "temp=n\n",
    "while n!=1 and n!=4:\n",
    "    print(n)\n",
    "    sum=0\n",
    "    s=str(n)\n",
    "    for i in s:\n",
    "        sum+=int(i)**2\n",
    "    n=sum\n",
    "if n==1:\n",
    "    print(temp,\"is Happy number\")\n",
    "else:\n",
    "    print(temp,\"is not a Happy number\")"
   ]
  },
  {
   "cell_type": "code",
   "execution_count": 7,
   "metadata": {
    "scrolled": true
   },
   "outputs": [
    {
     "name": "stdout",
     "output_type": "stream",
     "text": [
      "Enter number13\n",
      "13\n",
      "10\n",
      "13 is Happy number\n"
     ]
    }
   ],
   "source": [
    "n=int(input(\"Enter number\"))\n",
    "x=n\n",
    "while n!=1 and n!=4:\n",
    "    print(n)\n",
    "    sum=0\n",
    "    temp=n\n",
    "    while temp>0:\n",
    "        digit=temp%10\n",
    "        sum+=digit**2\n",
    "        temp//=10\n",
    "    n=sum\n",
    "if sum==1:\n",
    "    print(x,\"is Happy number\")\n",
    "else:\n",
    "    print(x,\"is not a Happy number\")"
   ]
  },
  {
   "cell_type": "markdown",
   "metadata": {},
   "source": [
    "##### Q.Calculate salary\n",
    "\n",
    "input: grade level,city class\n",
    "\n",
    "Grade levels..........................Basic Pag......................................Other allowances\n",
    "\n",
    "A................................................60000.................................................8000\n",
    "\n",
    "B................................................50000.................................................7000\n",
    "\n",
    "C................................................40000.................................................6000\n",
    "\n",
    "D................................................30000.................................................5000\n",
    "\n",
    "E................................................10000.................................................4000\n",
    "\n",
    "F................................................10000.................................................3000\n",
    "\n",
    "Gross pay =Basic pay + HRA + DA +other allowances + TA - Professional Tax - EPF\n",
    "\n",
    "- HRA\n",
    "\n",
    "city\n",
    "\n",
    "class-1 0.3 of basic pay \n",
    "class-2 0.2 of basic pay\n",
    "class-3 0.1 of basic pay\n",
    "\n",
    "- Professional Tax-200Rs./month\n",
    "\n",
    "- DA 0.5 times of basic pay\n",
    "- EPF 0.11 times of basic pay\n",
    "- TA 900 Rs./month\n",
    "\n",
    "Amount......................................................Tax Rate \n",
    "\n",
    "upto Rs.2,50,000.........................................0%\n",
    "\n",
    "2,50,001 to 5,00,000.....................................5% above 2,50,000\n",
    "\n",
    "5,00,001 to 7,50,000.....................................10% above 5,00,000 + 12500\n",
    "\n",
    "7,50,001 to 10,00,000....................................15% above 7,50,000 + 37500\n",
    "\n",
    "10,00,001 to 12,50,000...................................20% above 10,00,000 + 75000\n",
    "\n",
    "12,50,001 to 15,00,000...................................25% above 12,50,000 + 1,25,000\n",
    "\n",
    "Above        15,00,000...................................30% above 15,00,000 + 1,87,500\n",
    "\n",
    "\n",
    "\n"
   ]
  },
  {
   "cell_type": "code",
   "execution_count": 1,
   "metadata": {
    "scrolled": true
   },
   "outputs": [
    {
     "name": "stdout",
     "output_type": "stream",
     "text": [
      "Enter your grade:a\n",
      "Enter your class:1\n",
      "Monthly Salary: 110100.0\n",
      "Annual Salary: 1321200.0\n",
      "455300.0\n",
      "865900.0\n"
     ]
    }
   ],
   "source": [
    "grade=input(\"Enter your grade:\")\n",
    "cityClass=int(input(\"Enter your class:\"))\n",
    "Professional_tax=200\n",
    "TA=900\n",
    "\n",
    "if(grade in 'aA'):\n",
    "    basic_pay=60000\n",
    "    Other_allowance=8000\n",
    "    DA=basic_pay*0.5\n",
    "    EPF=basic_pay*0.11\n",
    "    if(cityClass==1):\n",
    "        HRA=basic_pay*0.3\n",
    "    elif(cityClasss==2):\n",
    "        HRA=basic_pay*0.2\n",
    "    elif(cityClass==3):\n",
    "        HRA=basic_pay*0.1\n",
    "    Salary=basic_pay+HRA+DA+Other_allowance+TA-Professional_tax-EPF\n",
    "    print(\"Monthly Salary:\",Salary)\n",
    "    annual_salary=Salary*12\n",
    "    print(\"Annual Salary:\",annual_salary)\n",
    "    \n",
    "elif(grade in 'bB'):\n",
    "    basic_pay=50000\n",
    "    Other_allowance=7000\n",
    "    DA=basic_pay*0.5\n",
    "    EPF=basic_pay*0.11\n",
    "    if(cityClass==1):\n",
    "        HRA=basic_pay*0.3\n",
    "    elif(cityClass==2):\n",
    "        HRA=basic_pay*0.2\n",
    "    elif(cityClass==3):\n",
    "        HRA=basic_pay*0.1\n",
    "    Salary=basic_pay+HRA+DA+Other_allowance+TA-Professional_tax-EPF\n",
    "    print(\"Monthly Salary:\",Salary)\n",
    "    annual_salary=Salary*12\n",
    "    print(\"Annual Salary:\",annual_salary)\n",
    "    \n",
    "elif(grade in 'cC'):\n",
    "    basic_pay=40000\n",
    "    Other_allowance=6000\n",
    "    DA=basic_pay*0.5\n",
    "    EPF=basic_pay*0.11\n",
    "    if(cityClass==1):\n",
    "        HRA=basic_pay*0.3\n",
    "    elif(cityClass==2):\n",
    "        HRA=basic_pay*0.2\n",
    "    elif(cityClass==3):\n",
    "        HRA=basic_pay*0.1\n",
    "    Salary=basic_pay+HRA+DA+Other_allowance+TA-Professional_tax-EPF\n",
    "    print(\"Monthly Salary:\",Salary)\n",
    "    annual_salary=Salary*12\n",
    "    print(\"Annual Salary:\",annual_salary)\n",
    "        \n",
    "elif(grade in 'dD'):\n",
    "    basic_pay=30000\n",
    "    Other_allowance=5000\n",
    "    DA=basic_pay*0.5\n",
    "    EPF=basic_pay*0.11\n",
    "    if(cityClass==1):\n",
    "        HRA=basic_pay*0.3\n",
    "    elif(cityClasss==2):\n",
    "        HRA=basic_pay*0.2\n",
    "    elif(cityClass==3):\n",
    "        HRA=basic_pay*0.1\n",
    "    Salary=basic_pay+HRA+DA+Other_allowance+TA-Professional_tax-EPF\n",
    "    print(\"Monthly Salary:\",Salary)\n",
    "    annual_salary=Salary*12\n",
    "    print(\"Annual Salary:\",annual_salary)\n",
    "    \n",
    "elif(grade in 'eE'):\n",
    "    basic_pay=20000\n",
    "    Other_allowance=4000\n",
    "    DA=basic_pay*0.5\n",
    "    EPF=basic_pay*0.11\n",
    "    if(cityClass==1):\n",
    "        HRA=basic_pay*0.3\n",
    "    elif(cityClass==2):\n",
    "        HRA=basic_pay*0.2\n",
    "    elif(cityClass==3):\n",
    "        HRA=basic_pay*0.1\n",
    "    Salary=basic_pay+HRA+DA+Other_allowance+TA-Professional_tax-EPF\n",
    "    print(\"Monthly Salary:\",Salary)\n",
    "    annual_salary=Salary*12\n",
    "    print(\"Annual Salary:\",annual_salary)\n",
    "    \n",
    "elif(grade in 'fF'):\n",
    "    basic_pay=10000\n",
    "    Other_allowance=3000\n",
    "    DA=basic_pay*0.5\n",
    "    EPF=basic_pay*0.11\n",
    "    if(cityClass==1):\n",
    "        HRA=basic_pay*0.3\n",
    "    elif(cityClass==2):\n",
    "        HRA=basic_pay*0.2\n",
    "    elif(cityClass==3):\n",
    "        HRA=basic_pay*0.1\n",
    "    Salary=basic_pay+HRA+DA+Other_allowance+TA-Professional_tax-EPF\n",
    "    print(\"Monthly Salary:\",Salary)\n",
    "    annual_salary=Salary*12\n",
    "    print(\"Annual Salary:\",annual_salary)\n",
    "\n",
    "if(annual_salary<=250000):\n",
    "    print(\"No tax to be paid\")\n",
    "elif(annual_salary>250001 and annual_salary<50000):\n",
    "    tax=0.05*annual_salary\n",
    "    annual_salary-=tax\n",
    "    print(tax)\n",
    "elif(annual_salary> 1250001 and annual_salary<1500000):\n",
    "    tax= 0.25*annual_salary+125000\n",
    "    annual_salary-=tax\n",
    "    print(tax)\n",
    "    print(annual_salary)\n",
    "# if annual_salary <= 250000:\n",
    "#     print(\"No need to pay income tax\")\n",
    "# elif annual_salary > 250000 and annual_salary <= 500000:\n",
    "#     salary = annual_salary * 0.05\n",
    "#     print(\"Your Payable Income Tax : \",salary + 12500)\n",
    "# elif annual_salary > 500000 and annual_salary <= 7500000:\n",
    "#     salary = annual_salary * 0.10\n",
    "#     print(\"Your Payable Income Tax : \",salary + )\n",
    "# elif annual_salary > 750000 and annual_salary <= 1000000:\n",
    "#     salary = annual_salary * 0.3\n",
    "#     print(\"Your Payable Income Tax : \",salary)\n",
    "# elif annual_salary > 1000000 and annual_salary <= 1250000:\n",
    "#     salary = annual_salary * 0.5\n",
    "#     print(\"Your Payable Income Tax : \",salary)\n",
    "# elif annual_salary > 1250000 and annual_salary <= 1500000:\n",
    "#     salary = annual_salary * 0.75\n",
    "#     print(\"Your Payable Income Tax : \",salary)\n",
    "# else:\n",
    "#     salary = annual_salary * 1.05\n",
    "#     print(\"Your Payable Income Tax : \",salary)\n"
   ]
  },
  {
   "cell_type": "markdown",
   "metadata": {},
   "source": [
    "### 9 Marker Like Question\n",
    "\n",
    "**Grade Levels** => A, B, C, D, E, F\n",
    "\n",
    "**Basic Pay** => 60k, 50k, 40k, 30k, 20k, 10k\n",
    "\n",
    "**Other** => 8k, 7k, 6k, 5k, 4k, 3k\n",
    "\n",
    "**Gross Pay** = Basic Pay + HRA + DA + other + TA - Professional Tax - EPF\n",
    "\n",
    "**HRA** => class 1 = 0.3 of basic pay\n",
    "        \n",
    "     => class 2 = 0.2 of basic pay\n",
    "     \n",
    "     => class 3 = 0.1 of basic pay\n",
    "     \n",
    "**Professional Tax** => 200 Rs/month   \n",
    "\n",
    "**DA** => 0.5 times of Basic Pay\n",
    "\n",
    "**EPF** => 0.11 times of Basic Pay\n",
    "\n",
    "**TA** => 900 Rs/month\n"
   ]
  },
  {
   "cell_type": "code",
   "execution_count": null,
   "metadata": {},
   "outputs": [],
   "source": [
    "grade_levels = input(\"Enter your grade level (A to F): \")\n",
    "city = int(input(\"Enter your city (class 1 to class 3) : \"))\n",
    "\n",
    "class1 = 0.3\n",
    "class2 = 0.2\n",
    "class3 = 0.1\n",
    "professional_tax = 200\n",
    "TA = 900\n",
    "annual_salary = 0\n",
    "\n",
    "if grade_levels in \"aA\":\n",
    "    if city == 1:\n",
    "        DA = 0.5 * 60000\n",
    "        EPF = 0.11 * 60000\n",
    "        gross_pay = 60000 + (60000 * 0.3) + (DA) + 8000 + TA - professional_tax - EPF\n",
    "        print(\"Your Monthly Salary : \",gross_pay)\n",
    "        annual_salary = gross_pay * 12\n",
    "        print(\"Your Annual Salary : \",annual_salary)\n",
    "    elif city == 2:\n",
    "        DA = 0.5 * 60000\n",
    "        EPF = 0.11 * 60000\n",
    "        gross_pay = 60000 + (60000 * 0.2) + (DA) + 8000 + TA - professional_tax - EPF\n",
    "        print(\"Your Monthly Salary : \",gross_pay)\n",
    "        annual_salary = gross_pay * 12\n",
    "        print(\"Your Annual Salary : \",annual_salary)\n",
    "    elif city == 3:\n",
    "        DA = 0.5 * 60000\n",
    "        EPF = 0.11 * 60000\n",
    "        gross_pay = 60000 + (60000 * 0.1) + (DA) + 8000 + TA - professional_tax - EPF\n",
    "        print(\"Your Monthly Salary : \",gross_pay)\n",
    "        annual_salary = gross_pay * 12\n",
    "        print(\"Your Annual Salary : \",annual_salary)\n",
    "    else:\n",
    "        print(\"Inavlid City !\")\n",
    "elif grade_levels in \"bB\":\n",
    "    if city == 1:\n",
    "        DA = 0.5 * 50000\n",
    "        EPF = 0.11 * 50000\n",
    "        gross_pay = 50000 + (50000 * 0.3) + (DA) + 7000 + TA - professional_tax - EPF\n",
    "        print(\"Your Monthly Salary : \",gross_pay)\n",
    "        annual_salary = gross_pay * 12\n",
    "        print(\"Your Annual Salary : \",annual_salary)\n",
    "    elif city == 2:\n",
    "        DA = 0.5 * 50000\n",
    "        EPF = 0.11 * 50000\n",
    "        gross_pay = 50000 + (50000 * 0.2) + (DA) + 7000 + TA - professional_tax - EPF\n",
    "        print(\"Your Monthly Salary : \",gross_pay)\n",
    "        annual_salary = gross_pay * 12\n",
    "        print(\"Your Annual Salary : \",annual_salary)\n",
    "    elif city == 3:\n",
    "        DA = 0.5 * 50000\n",
    "        EPF = 0.11 * 50000\n",
    "        gross_pay = 50000 + (50000 * 0.1) + (DA) + 7000 + TA - professional_tax - EPF\n",
    "        print(\"Your Monthly Salary : \",gross_pay)\n",
    "        annual_salary = gross_pay * 12\n",
    "        print(\"Your Annual Salary : \",annual_salary)\n",
    "    else:\n",
    "        print(\"Inavlid City !\")    \n",
    "elif grade_levels in \"cC\":\n",
    "    if city == 1:\n",
    "        DA = 0.5 * 40000\n",
    "        EPF = 0.11 * 40000\n",
    "        gross_pay = 40000 + (40000 * 0.3) + (DA) + 6000 + TA - professional_tax - EPF\n",
    "        print(\"Your Monthly Salary : \",gross_pay)\n",
    "        annual_salary = gross_pay * 12\n",
    "        print(\"Your Annual Salary : \",annual_salary)\n",
    "    elif city == 2:\n",
    "        DA = 0.5 * 40000\n",
    "        EPF = 0.11 * 40000\n",
    "        gross_pay = 40000 + (40000 * 0.2) + (DA) + 6000 + TA - professional_tax - EPF\n",
    "        print(\"Your Monthly Salary : \",gross_pay)\n",
    "        annual_salary = gross_pay * 12\n",
    "        print(\"Your Annual Salary : \",annual_salary)\n",
    "    elif city == 3:\n",
    "        DA = 0.5 * 40000\n",
    "        EPF = 0.11 * 40000\n",
    "        gross_pay = 40000 + (40000 * 0.1) + (DA) + 6000 + TA - professional_tax - EPF\n",
    "        print(\"Your Monthly Salary : \",gross_pay)\n",
    "        print(\"Your Annual Salary : \",gross_pay * 12)\n",
    "    else:\n",
    "        print(\"Inavlid City !\")    \n",
    "elif grade_levels in \"dD\":\n",
    "    if city == 1:\n",
    "        DA = 0.5 * 30000\n",
    "        EPF = 0.11 * 30000\n",
    "        gross_pay = 30000 + (30000 * 0.3) + (DA) + 5000 + TA - professional_tax - EPF\n",
    "        print(\"Your Monthly Salary : \",gross_pay)\n",
    "        annual_salary = gross_pay * 12\n",
    "        print(\"Your Annual Salary : \",annual_salary)\n",
    "    elif city == 2:\n",
    "        DA = 0.5 * 30000\n",
    "        EPF = 0.11 * 30000\n",
    "        gross_pay = 30000 + (30000 * 0.2) + (DA) + 5000 + TA - professional_tax - EPF\n",
    "        print(\"Your Monthly Salary : \",gross_pay)\n",
    "        annual_salary = gross_pay * 12\n",
    "        print(\"Your Annual Salary : \",annual_salary)\n",
    "    elif city == 3:\n",
    "        DA = 0.5 * 30000\n",
    "        EPF = 0.11 * 30000\n",
    "        gross_pay = 30000 + (30000 * 0.1) + (DA) + 5000 + TA - professional_tax - EPF\n",
    "        print(\"Your Monthly Salary : \",gross_pay)\n",
    "        annual_salary = gross_pay * 12\n",
    "        print(\"Your Annual Salary : \",annual_salary)\n",
    "    else:\n",
    "        print(\"Inavlid City !\")\n",
    "elif grade_levels in \"eE\":\n",
    "    if city == 1:\n",
    "        DA = 0.5 * 20000\n",
    "        EPF = 0.11 * 20000\n",
    "        gross_pay = 20000 + (20000 * 0.3) + (DA) + 4000 + TA - professional_tax - EPF\n",
    "        print(\"Your Monthly Salary : \",gross_pay)\n",
    "        annual_salary = gross_pay * 12\n",
    "        print(\"Your Annual Salary : \",annual_salary)\n",
    "    elif city == 2:\n",
    "        DA = 0.5 * 20000\n",
    "        EPF = 0.11 * 20000\n",
    "        gross_pay = 20000 + (20000 * 0.2) + (DA) + 4000 + TA - professional_tax - EPF\n",
    "        print(\"Your Monthly Salary : \",gross_pay)\n",
    "        annual_salary = gross_pay * 12\n",
    "        print(\"Your Annual Salary : \",annual_salary)\n",
    "    elif city == 3:\n",
    "        DA = 0.5 * 20000\n",
    "        EPF = 0.11 * 20000\n",
    "        gross_pay = 20000 + (20000 * 0.1) + (DA) + 4000 + TA - professional_tax - EPF\n",
    "        print(\"Your Monthly Salary : \",gross_pay)\n",
    "        annual_salary = gross_pay * 12\n",
    "        print(\"Your Annual Salary : \",annual_salary)\n",
    "    else:\n",
    "        print(\"Inavlid City !\")\n",
    "elif grade_levels in \"fF\":\n",
    "    if city == 1:\n",
    "        DA = 0.5 * 10000\n",
    "        EPF = 0.11 * 10000\n",
    "        gross_pay = 10000 + (10000 * 0.3) + (DA) + 3000 + TA - professional_tax - EPF\n",
    "        print(\"Your Monthly Salary : \",gross_pay)\n",
    "        annual_salary = gross_pay * 12\n",
    "        print(\"Your Annual Salary : \",annual_salary)\n",
    "    elif city == 2:\n",
    "        DA = 0.5 * 10000\n",
    "        EPF = 0.11 * 10000\n",
    "        gross_pay = 10000 + (10000 * 0.2) + (DA) + 3000 + TA - professional_tax - EPF\n",
    "        print(\"Your Monthly Salary : \",gross_pay)\n",
    "        annual_salary = gross_pay * 12\n",
    "        print(\"Your Annual Salary : \",annual_salary)\n",
    "    elif city == 3:\n",
    "        DA = 0.5 * 10000\n",
    "        EPF = 0.11 * 10000\n",
    "        gross_pay = 10000 + (10000 * 0.1) + (DA) + 3000 + TA - professional_tax - EPF\n",
    "        print(\"Your Monthly Salary : \",gross_pay)\n",
    "        annual_salary = gross_pay * 12\n",
    "        print(\"Your Annual Salary : \",annual_salary)\n",
    "    else:\n",
    "        print(\"Inavlid City !\")    \n",
    "else:\n",
    "    print(\"Invalid grade level, please enter between A to F\")\n",
    "    \n",
    "# if annual_salary <= 250000:\n",
    "#     print(\"No need to pay income tax\")\n",
    "# elif annual_salary > 250000 and annual_salary <= 500000:\n",
    "#     salary = annual_salary * 0.05\n",
    "#     print(\"Your Payable Income Tax : \",salary + 12500)\n",
    "# elif annual_salary > 500000 and annual_salary <= 7500000:\n",
    "#     salary = annual_salary * 0.10\n",
    "#     print(\"Your Payable Income Tax : \",salary + )\n",
    "# elif annual_salary > 750000 and annual_salary <= 1000000:\n",
    "#     salary = annual_salary * 0.3\n",
    "#     print(\"Your Payable Income Tax : \",salary)\n",
    "# elif annual_salary > 1000000 and annual_salary <= 1250000:\n",
    "#     salary = annual_salary * 0.5\n",
    "#     print(\"Your Payable Income Tax : \",salary)\n",
    "# elif annual_salary > 1250000 and annual_salary <= 1500000:\n",
    "#     salary = annual_salary * 0.75\n",
    "#     print(\"Your Payable Income Tax : \",salary)\n",
    "# else:\n",
    "#     salary = annual_salary * 1.05\n",
    "#     print(\"Your Payable Income Tax : \",salary)\n"
   ]
  },
  {
   "cell_type": "markdown",
   "metadata": {},
   "source": [
    "**Patterns**\n",
    "\n",
    "**Q1**\n",
    "\n",
    "/*/\n",
    "\n",
    "/**/\n",
    "\n",
    "/***/\n",
    "\n",
    "/****/"
   ]
  },
  {
   "cell_type": "code",
   "execution_count": 1,
   "metadata": {},
   "outputs": [
    {
     "name": "stdout",
     "output_type": "stream",
     "text": [
      "* \n",
      "* * \n",
      "* * * \n",
      "* * * * \n",
      "* * * * * \n"
     ]
    }
   ],
   "source": [
    "rows = int(input(\"Enter no. of rows : \"))\n",
    "\n",
    "for i in range(1,rows + 1):\n",
    "    for j in range(1,i + 1):\n",
    "        print(\"*\",end=\" \")\n",
    "    print()    "
   ]
  },
  {
   "cell_type": "code",
   "execution_count": 2,
   "metadata": {},
   "outputs": [
    {
     "name": "stdout",
     "output_type": "stream",
     "text": [
      "1 \n",
      "2 2 \n",
      "3 3 3 \n",
      "4 4 4 4 \n",
      "5 5 5 5 5 \n",
      "6 6 6 6 6 6 \n",
      "7 7 7 7 7 7 7 \n",
      "8 8 8 8 8 8 8 8 \n",
      "9 9 9 9 9 9 9 9 9 \n",
      "10 10 10 10 10 10 10 10 10 10 \n"
     ]
    }
   ],
   "source": [
    "rows = int(input(\"Enter no. of rows : \"))\n",
    "\n",
    "for i in range(1,rows + 1):\n",
    "    for j in range(1,i + 1):\n",
    "        print(i,end=\" \")\n",
    "    print()    "
   ]
  },
  {
   "cell_type": "code",
   "execution_count": null,
   "metadata": {},
   "outputs": [
    {
     "name": "stdout",
     "output_type": "stream",
     "text": [
      "Enter no. of rows : 5\n",
      "1 \n",
      "1 2 \n",
      "1 2 3 \n",
      "1 2 3 4 \n",
      "1 2 3 4 5 \n"
     ]
    }
   ],
   "source": [
    "rows = int(input(\"Enter no. of rows : \"))\n",
    "\n",
    "for i in range(1,rows + 1):\n",
    "    for j in range(1,i + 1):\n",
    "        print(j,end=\" \")\n",
    "    print()    "
   ]
  },
  {
   "cell_type": "code",
   "execution_count": null,
   "metadata": {},
   "outputs": [
    {
     "name": "stdout",
     "output_type": "stream",
     "text": [
      "Enter no. of rows : 5\n",
      "A \n",
      "B B \n",
      "C C C \n",
      "D D D D \n",
      "E E E E E \n"
     ]
    }
   ],
   "source": [
    "rows = int(input(\"Enter no. of rows : \"))\n",
    "\n",
    "for i in range(1,rows + 1):\n",
    "    for j in range(1,i + 1):\n",
    "        print(chr(64+i),end=\" \")\n",
    "    print()    "
   ]
  },
  {
   "cell_type": "code",
   "execution_count": null,
   "metadata": {},
   "outputs": [
    {
     "name": "stdout",
     "output_type": "stream",
     "text": [
      "Enter no. of rows : 5\n",
      "A \n",
      "A B \n",
      "A B C \n",
      "A B C D \n",
      "A B C D E \n"
     ]
    }
   ],
   "source": [
    "rows = int(input(\"Enter no. of rows : \"))\n",
    "\n",
    "for i in range(1,rows + 1):\n",
    "    for j in range(1,i + 1):\n",
    "        print(chr(64+j),end=\" \")\n",
    "    print()   "
   ]
  },
  {
   "cell_type": "code",
   "execution_count": null,
   "metadata": {},
   "outputs": [
    {
     "name": "stdout",
     "output_type": "stream",
     "text": [
      "Enter no. of rows : 5\n",
      "A \n",
      "B C \n",
      "D E F \n",
      "G H I J \n",
      "K L M N O \n"
     ]
    }
   ],
   "source": [
    "rows = int(input(\"Enter no. of rows : \"))\n",
    "k = 65\n",
    "for i in range(1,rows + 1):\n",
    "    for j in range(1,i + 1):\n",
    "        print(chr(k),end=\" \")\n",
    "        k += 1\n",
    "    print()    "
   ]
  },
  {
   "cell_type": "code",
   "execution_count": null,
   "metadata": {},
   "outputs": [
    {
     "name": "stdout",
     "output_type": "stream",
     "text": [
      "Enter no. of rows : 5\n",
      "a \n",
      "b c \n",
      "d e f \n",
      "g h i j \n",
      "k l m n o \n"
     ]
    }
   ],
   "source": [
    "rows = int(input(\"Enter no. of rows : \"))\n",
    "k = 97\n",
    "for i in range(1,rows + 1):\n",
    "    for j in range(1,i + 1):\n",
    "        print(chr(k),end=\" \")\n",
    "        k += 1\n",
    "    print() "
   ]
  },
  {
   "cell_type": "code",
   "execution_count": null,
   "metadata": {},
   "outputs": [
    {
     "name": "stdout",
     "output_type": "stream",
     "text": [
      "Enter no. of rows : 5\n",
      "1 \n",
      "0 0 \n",
      "1 1 1 \n",
      "0 0 0 0 \n",
      "1 1 1 1 1 \n"
     ]
    }
   ],
   "source": [
    "rows = int(input(\"Enter no. of rows : \"))\n",
    "\n",
    "for i in range(1,rows+1):\n",
    "    for j in range(1,i+1):\n",
    "        if (i % 2 == 0):\n",
    "            print(0,end=\" \")\n",
    "        else:\n",
    "            print(1,end=\" \")\n",
    "    print()        "
   ]
  },
  {
   "cell_type": "code",
   "execution_count": null,
   "metadata": {},
   "outputs": [
    {
     "name": "stdout",
     "output_type": "stream",
     "text": [
      "Enter no. of rows : 5\n",
      "1 \n",
      "0 1 \n",
      "1 0 1 \n",
      "0 1 0 1 \n",
      "1 0 1 0 1 \n"
     ]
    }
   ],
   "source": [
    "rows = int(input(\"Enter no. of rows : \"))\n",
    "\n",
    "for i in range(1,rows+1):\n",
    "    for j in range(1,i+1):\n",
    "        print((i+j-1) % 2,end=\" \")\n",
    "    print()     "
   ]
  },
  {
   "cell_type": "code",
   "execution_count": null,
   "metadata": {},
   "outputs": [
    {
     "name": "stdout",
     "output_type": "stream",
     "text": [
      "Enter no. of rows : 5\n",
      "* \n",
      "# # \n",
      "* * * \n",
      "# # # # \n",
      "* * * * * \n"
     ]
    }
   ],
   "source": [
    "rows = int(input(\"Enter no. of rows : \"))\n",
    "\n",
    "for i in range(1,rows+1):\n",
    "    for j in range(1,i+1):\n",
    "        if(i % 2 == 0):\n",
    "            print(\"#\",end = \" \")\n",
    "        else:\n",
    "            print(\"*\", end = \" \")\n",
    "    print()       \n"
   ]
  },
  {
   "cell_type": "code",
   "execution_count": null,
   "metadata": {},
   "outputs": [
    {
     "name": "stdout",
     "output_type": "stream",
     "text": [
      "Enter no. of rows : 5\n",
      "* * * * * \n",
      "* * * * \n",
      "* * * \n",
      "* * \n",
      "* \n"
     ]
    }
   ],
   "source": [
    "rows = int(input(\"Enter no. of rows : \"))\n",
    "\n",
    "for i in range(1,rows+1):\n",
    "    for j in range(i,rows+1):\n",
    "        print(\"*\",end = \" \")\n",
    "    print()    \n"
   ]
  },
  {
   "cell_type": "code",
   "execution_count": null,
   "metadata": {},
   "outputs": [
    {
     "name": "stdout",
     "output_type": "stream",
     "text": [
      "Enter no. of rows : 5\n",
      "1 1 1 1 1 \n",
      "2 2 2 2 \n",
      "3 3 3 \n",
      "4 4 \n",
      "5 \n"
     ]
    }
   ],
   "source": [
    "rows = int(input(\"Enter no. of rows : \"))\n",
    "\n",
    "for i in range(1,rows+1):\n",
    "    for j in range(i,rows+1):\n",
    "        print(i,end = \" \")\n",
    "    print() "
   ]
  },
  {
   "cell_type": "code",
   "execution_count": null,
   "metadata": {},
   "outputs": [
    {
     "name": "stdout",
     "output_type": "stream",
     "text": [
      "Enter no. of rows : 5\n",
      "1 2 3 4 5 \n",
      "2 3 4 5 \n",
      "3 4 5 \n",
      "4 5 \n",
      "5 \n"
     ]
    }
   ],
   "source": [
    "rows = int(input(\"Enter no. of rows : \"))\n",
    "\n",
    "for i in range(1,rows+1):\n",
    "    for j in range(i,rows+1):\n",
    "        print(j,end = \" \")\n",
    "    print()    "
   ]
  },
  {
   "cell_type": "code",
   "execution_count": null,
   "metadata": {},
   "outputs": [
    {
     "name": "stdout",
     "output_type": "stream",
     "text": [
      "Enter no. of rows : 5\n",
      "5 4 3 2 1 \n",
      "4 3 2 1 \n",
      "3 2 1 \n",
      "2 1 \n",
      "1 \n"
     ]
    }
   ],
   "source": [
    "rows = int(input(\"Enter no. of rows : \"))\n",
    "\n",
    "for i in range(1,rows+1):\n",
    "    for j in range(i,rows+1):\n",
    "        print(rows+1-j,end = \" \")\n",
    "    print()    "
   ]
  },
  {
   "cell_type": "code",
   "execution_count": null,
   "metadata": {},
   "outputs": [
    {
     "name": "stdout",
     "output_type": "stream",
     "text": [
      "Enter no. of rows : 5\n",
      "5 4 3 2 1 \n",
      "5 4 3 2 \n",
      "5 4 3 \n",
      "5 4 \n",
      "5 \n"
     ]
    }
   ],
   "source": [
    "rows = int(input(\"Enter no. of rows : \"))\n",
    "\n",
    "for i in range(1,rows+1):\n",
    "    for j in range(rows,i-1,-1):\n",
    "        print(j,end = \" \")\n",
    "    print()"
   ]
  },
  {
   "cell_type": "code",
   "execution_count": null,
   "metadata": {},
   "outputs": [
    {
     "name": "stdout",
     "output_type": "stream",
     "text": [
      "Enter no. of rows : 5\n",
      "1 2 3 4 5 \n",
      "1 2 3 4 \n",
      "1 2 3 \n",
      "1 2 \n",
      "1 \n"
     ]
    }
   ],
   "source": [
    "rows = int(input(\"Enter no. of rows : \"))\n",
    "\n",
    "for i in range(1,rows+1):\n",
    "    for j in range(1,(rows-i)+2):\n",
    "        print(j,end = \" \")\n",
    "    print()    "
   ]
  },
  {
   "cell_type": "code",
   "execution_count": null,
   "metadata": {},
   "outputs": [
    {
     "name": "stdout",
     "output_type": "stream",
     "text": [
      "Enter no. of rows : 5\n",
      "1 2 3 4 5 \n",
      "1 2 3 4 \n",
      "1 2 3 \n",
      "1 2 \n",
      "1 \n"
     ]
    }
   ],
   "source": [
    "rows = int(input(\"Enter no. of rows : \"))\n",
    "#Sir's Logic\n",
    "for i in range(1,rows+1):\n",
    "    for j in range(i,rows + 1):\n",
    "        print(j-i+1,end = \" \")\n",
    "    print()    "
   ]
  },
  {
   "cell_type": "code",
   "execution_count": null,
   "metadata": {},
   "outputs": [
    {
     "name": "stdout",
     "output_type": "stream",
     "text": [
      "Enter no. of rows : 5\n",
      "          * \n",
      "        * * \n",
      "      * * * \n",
      "    * * * * \n",
      "  * * * * * \n"
     ]
    }
   ],
   "source": [
    "rows = int(input(\"Enter no. of rows : \"))\n",
    "\n",
    "for i in range(1,rows+1):\n",
    "    for j in range(i,rows+1):\n",
    "        print(\" \",end=\" \")\n",
    "    for k in range(1,i+1):\n",
    "        print(\"*\",end = \" \")\n",
    "    print()   "
   ]
  },
  {
   "cell_type": "code",
   "execution_count": null,
   "metadata": {},
   "outputs": [
    {
     "name": "stdout",
     "output_type": "stream",
     "text": [
      "Enter no. of rows : 5\n",
      "          \n",
      "        * \n",
      "      * * \n",
      "    * * * \n",
      "  * * * * \n"
     ]
    }
   ],
   "source": [
    "rows = int(input(\"Enter no. of rows : \"))\n",
    "\n",
    "for i in range(1,rows+1):\n",
    "    for j in range(rows+1,i,-1):\n",
    "        print(\" \",end=\" \")\n",
    "    for k in range(1,i):\n",
    "         print(\"*\",end = \" \")\n",
    "    print()    "
   ]
  },
  {
   "cell_type": "code",
   "execution_count": null,
   "metadata": {},
   "outputs": [],
   "source": []
  }
 ],
 "metadata": {
  "kernelspec": {
   "display_name": "base",
   "language": "python",
   "name": "python3"
  },
  "language_info": {
   "codemirror_mode": {
    "name": "ipython",
    "version": 3
   },
   "file_extension": ".py",
   "mimetype": "text/x-python",
   "name": "python",
   "nbconvert_exporter": "python",
   "pygments_lexer": "ipython3",
   "version": "3.8.5"
  }
 },
 "nbformat": 4,
 "nbformat_minor": 4
}
