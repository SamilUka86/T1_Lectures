{
 "cells": [
  {
   "cell_type": "code",
   "execution_count": 12,
   "metadata": {},
   "outputs": [
    {
     "name": "stdout",
     "output_type": "stream",
     "text": [
      "Enter Rows:5\n",
      "  * * * * * \n",
      "    * * * * \n",
      "      * * * \n",
      "        * * \n",
      "          * \n"
     ]
    }
   ],
   "source": [
    "n=int(input(\"Enter Rows:\"))\n",
    "for i in range (1,n+1):\n",
    "    for j in range(1,i+1):\n",
    "        print(\" \",end=\" \")\n",
    "    for k in range(i,n+1):\n",
    "        print(\"*\",end=\" \")\n",
    "    print()"
   ]
  },
  {
   "cell_type": "code",
   "execution_count": 11,
   "metadata": {},
   "outputs": [
    {
     "name": "stdout",
     "output_type": "stream",
     "text": [
      "Enter Rows:5\n",
      "  5 4 3 2 1 \n",
      "    5 4 3 2 \n",
      "      5 4 3 \n",
      "        5 4 \n",
      "          5 \n"
     ]
    }
   ],
   "source": [
    "n=int(input(\"Enter Rows:\"))\n",
    "for i in range (1,n+1):\n",
    "    for j in range(1,i+1):\n",
    "        print(\" \",end=\" \")\n",
    "    for k in range(n,i-1,-1):\n",
    "        print(k,end=\" \")\n",
    "    print()"
   ]
  },
  {
   "cell_type": "markdown",
   "metadata": {},
   "source": [
    "#####  Q.write a program to count toal odd and even numbers and also do the sum of them take a input n from user for the total numbers"
   ]
  },
  {
   "cell_type": "code",
   "execution_count": 16,
   "metadata": {},
   "outputs": [
    {
     "name": "stdout",
     "output_type": "stream",
     "text": [
      "Enter limit:6\n",
      "Enter a number:1\n",
      "Enter a number:2\n",
      "Enter a number:3\n",
      "Enter a number:4\n",
      "Enter a number:5\n",
      "Enter a number:6\n",
      "Odd count: 3\n",
      "Odd sum: 9\n",
      "Even count: 3\n",
      "Even sum: 12\n"
     ]
    }
   ],
   "source": [
    "numbers=int(input(\"Enter limit:\"))\n",
    "countE=0\n",
    "countO=0\n",
    "sumO=0\n",
    "sumE=0\n",
    "for i in range(1,numbers+1):\n",
    "    num=int(input(\"Enter a number:\"))\n",
    "    if(num%2==0):\n",
    "        countE+=1\n",
    "        sumE+=num\n",
    "    else:\n",
    "        countO+=1\n",
    "        sumO+=num\n",
    "print(\"Odd count:\",countO)\n",
    "print(\"Odd sum:\",sumO)\n",
    "print(\"Even count:\",countE)\n",
    "print(\"Even sum:\",sumE)\n",
    "    "
   ]
  },
  {
   "cell_type": "markdown",
   "metadata": {},
   "source": [
    "##### Q.WAP to compute the product of odd digits in a given number or 0 if there are not any odd numbers"
   ]
  },
  {
   "cell_type": "code",
   "execution_count": 25,
   "metadata": {
    "scrolled": true
   },
   "outputs": [
    {
     "name": "stdout",
     "output_type": "stream",
     "text": [
      "Enter a number:2222\n",
      "NO odd digits so product is 0.\n"
     ]
    }
   ],
   "source": [
    "number=int(input(\"Enter a number:\"))\n",
    "temp=number\n",
    "product=1\n",
    "\n",
    "count=0\n",
    "while temp>0:\n",
    "    digit=temp%10\n",
    "    if(digit%2!=0):\n",
    "        product*=digit\n",
    "        count+=1\n",
    "    temp//=10\n",
    "if(count==0):\n",
    "    print(\"NO odd digits so product is 0.\")\n",
    "else:\n",
    "    print(\"Product:\",product)"
   ]
  },
  {
   "cell_type": "markdown",
   "metadata": {},
   "source": [
    "#####  Q.WAP to find if the gievn number is Disarium or not"
   ]
  },
  {
   "cell_type": "code",
   "execution_count": 37,
   "metadata": {},
   "outputs": [
    {
     "name": "stdout",
     "output_type": "stream",
     "text": [
      "Enter a number112\n",
      "It is not a disarium number\n"
     ]
    }
   ],
   "source": [
    "n=int(input(\"Enter a number\"))\n",
    "sum=0\n",
    "temp=n\n",
    "length=str(n)\n",
    "len1=len(length)\n",
    "while temp>0:\n",
    "    for i in range(len1,0,-1):\n",
    "        digit=temp%10\n",
    "        sum+=digit**i\n",
    "        temp//=10\n",
    "    \n",
    "if(sum==n):\n",
    "    print(\"It is a disarium number\")\n",
    "else:\n",
    "    print(\"It is not a disarium number\")\n",
    "    \n",
    "        \n",
    "    "
   ]
  },
  {
   "cell_type": "markdown",
   "metadata": {},
   "source": [
    "**------------------------------------------------------------------------------------------------------------------------------------------------------------------------------------------------------------------**"
   ]
  },
  {
   "cell_type": "markdown",
   "metadata": {},
   "source": [
    "# Unit 3:Functions and scoping\n",
    "#### 1.)Built in function-print,hype,input\n",
    "#### 2.)User defined function"
   ]
  },
  {
   "cell_type": "markdown",
   "metadata": {},
   "source": [
    "#syntax\n",
    "\n",
    "def function_name(parameters):\n",
    "\n",
    "    body of function\n",
    "    \n",
    "    return value\n",
    "    \n",
    "def(mandatory)\n",
    "\n",
    "return(optional)"
   ]
  },
  {
   "cell_type": "code",
   "execution_count": 40,
   "metadata": {},
   "outputs": [
    {
     "name": "stdout",
     "output_type": "stream",
     "text": [
      "Hello Arman Good morning\n",
      "Hello John Good morning\n"
     ]
    }
   ],
   "source": [
    "def wish(name):\n",
    "    print(\"Hello\",name,\"Good morning\")\n",
    "wish(\"Arman\")\n",
    "wish(\"John\")\n",
    "# wish-gives error"
   ]
  },
  {
   "cell_type": "markdown",
   "metadata": {},
   "source": [
    "#### * Different  categories of UDF(User Defined Function)\n",
    "\n",
    "- 1.)Function with no parameters and no return type\n"
   ]
  },
  {
   "cell_type": "code",
   "execution_count": 44,
   "metadata": {},
   "outputs": [
    {
     "name": "stdout",
     "output_type": "stream",
     "text": [
      "Enter name:kalu\n",
      "kalu\n"
     ]
    }
   ],
   "source": [
    "def printline():\n",
    "    s=input(\"Enter name:\")\n",
    "    print(s)\n",
    "\n",
    "printline()"
   ]
  },
  {
   "cell_type": "markdown",
   "metadata": {},
   "source": [
    "####  2.)Function with parameters and no return type"
   ]
  },
  {
   "cell_type": "code",
   "execution_count": 49,
   "metadata": {},
   "outputs": [
    {
     "name": "stdout",
     "output_type": "stream",
     "text": [
      "Enter name:kaliya\n",
      "kaliya\n"
     ]
    }
   ],
   "source": [
    "def printlines(s):\n",
    "    print(s)\n",
    "\n",
    "s=input(\"Enter name:\")    \n",
    "printlines(s)"
   ]
  },
  {
   "cell_type": "markdown",
   "metadata": {},
   "source": [
    "####  3.)Function with parameters and with return type"
   ]
  },
  {
   "cell_type": "code",
   "execution_count": 51,
   "metadata": {},
   "outputs": [
    {
     "name": "stdout",
     "output_type": "stream",
     "text": [
      "Enter name:sam\n",
      "sam\n"
     ]
    }
   ],
   "source": [
    "def printlines(s):\n",
    "    return s\n",
    "\n",
    "s=input(\"Enter name:\")    \n",
    "k=printlines(s)\n",
    "print(k)"
   ]
  },
  {
   "cell_type": "markdown",
   "metadata": {},
   "source": [
    "####  4.)Function without parameters and with return type"
   ]
  },
  {
   "cell_type": "code",
   "execution_count": 1,
   "metadata": {},
   "outputs": [
    {
     "name": "stdout",
     "output_type": "stream",
     "text": [
      "Enter name:kallu kaliya\n",
      "kallu kaliya\n"
     ]
    }
   ],
   "source": [
    "def printlines():\n",
    "    s=input(\"Enter name:\")    \n",
    "    return s\n",
    "k=printlines()\n",
    "print(k)"
   ]
  },
  {
   "cell_type": "markdown",
   "metadata": {},
   "source": [
    "##### Q.WAF to accept n and print odd numbers between 1 to n"
   ]
  },
  {
   "cell_type": "code",
   "execution_count": 3,
   "metadata": {},
   "outputs": [
    {
     "name": "stdout",
     "output_type": "stream",
     "text": [
      "Enter a number50\n",
      "1\n",
      "3\n",
      "5\n",
      "7\n",
      "9\n",
      "11\n",
      "13\n",
      "15\n",
      "17\n",
      "19\n",
      "21\n",
      "23\n",
      "25\n",
      "27\n",
      "29\n",
      "31\n",
      "33\n",
      "35\n",
      "37\n",
      "39\n",
      "41\n",
      "43\n",
      "45\n",
      "47\n",
      "49\n"
     ]
    }
   ],
   "source": [
    "def countO(n):\n",
    "    for i in range(1,n+1):\n",
    "        if(i%2!=0):\n",
    "            print(i)\n",
    "        \n",
    "number=int(input(\"Enter a number\"))\n",
    "countO(number)\n"
   ]
  },
  {
   "cell_type": "code",
   "execution_count": 6,
   "metadata": {},
   "outputs": [
    {
     "name": "stdout",
     "output_type": "stream",
     "text": [
      "None\n",
      "None\n"
     ]
    }
   ],
   "source": [
    "def add(x,y):\n",
    "    x+y # returned nothing \n",
    "result=add(10,20)\n",
    "print(result)\n",
    "print(add(20,30))"
   ]
  },
  {
   "cell_type": "code",
   "execution_count": 13,
   "metadata": {},
   "outputs": [
    {
     "name": "stdout",
     "output_type": "stream",
     "text": [
      "70\n",
      "0\n"
     ]
    }
   ],
   "source": [
    "def sum_sub(a,b):\n",
    "    sum=a+b\n",
    "    sub=a-b\n",
    "    mul=a*b\n",
    "    dev=a//b\n",
    "    return sum,sub\n",
    "x,y=sum_sub(30,40)\n",
    "print(x)\n",
    "print(y)"
   ]
  },
  {
   "cell_type": "code",
   "execution_count": 16,
   "metadata": {},
   "outputs": [],
   "source": [
    "import math"
   ]
  },
  {
   "cell_type": "markdown",
   "metadata": {},
   "source": [
    "math.# on clicking tab we can get dropdown of the lists"
   ]
  },
  {
   "cell_type": "markdown",
   "metadata": {},
   "source": [
    "####  **Docstring**"
   ]
  },
  {
   "cell_type": "code",
   "execution_count": 19,
   "metadata": {},
   "outputs": [
    {
     "name": "stdout",
     "output_type": "stream",
     "text": [
      "25\n",
      "Argument passed into x returns square of x\n"
     ]
    }
   ],
   "source": [
    "def square_number(x):\n",
    "    \"\"\"Argument passed into x returns square of x\"\"\"\n",
    "    return x*x\n",
    "t=square_number(5)\n",
    "print(t)\n",
    "print(square_number.__doc__)"
   ]
  },
  {
   "cell_type": "markdown",
   "metadata": {},
   "source": [
    "##### Types of argument\n",
    "- def f1(a,b):formal argument\n",
    "- f1(10,20):actual argument\n",
    "\n",
    "##### Positional argument"
   ]
  },
  {
   "cell_type": "code",
   "execution_count": 20,
   "metadata": {},
   "outputs": [
    {
     "name": "stdout",
     "output_type": "stream",
     "text": [
      "-10\n",
      "10\n"
     ]
    }
   ],
   "source": [
    "def sub(a,b):\n",
    "    print(a-b)\n",
    "sub(10,20)\n",
    "sub(20,10)"
   ]
  },
  {
   "cell_type": "markdown",
   "metadata": {},
   "source": [
    "#### Keyword argument"
   ]
  },
  {
   "cell_type": "code",
   "execution_count": 25,
   "metadata": {},
   "outputs": [
    {
     "name": "stdout",
     "output_type": "stream",
     "text": [
      "Hello Arman Good morning\n",
      "Hello Arman Good morning\n"
     ]
    }
   ],
   "source": [
    "def wish(name,msg):\n",
    "    print(\"Hello\",name,msg)\n",
    "wish(name=\"Arman\" ,msg=\"Good morning\")\n",
    "wish(msg=\"Good morning\", name=\"Arman\")"
   ]
  },
  {
   "cell_type": "code",
   "execution_count": 26,
   "metadata": {},
   "outputs": [
    {
     "ename": "SyntaxError",
     "evalue": "positional argument follows keyword argument (<ipython-input-26-5efad6d102f7>, line 2)",
     "output_type": "error",
     "traceback": [
      "\u001b[1;36m  File \u001b[1;32m\"<ipython-input-26-5efad6d102f7>\"\u001b[1;36m, line \u001b[1;32m2\u001b[0m\n\u001b[1;33m    wish(name=\"Arman\",\"Good morning\")\u001b[0m\n\u001b[1;37m                      ^\u001b[0m\n\u001b[1;31mSyntaxError\u001b[0m\u001b[1;31m:\u001b[0m positional argument follows keyword argument\n"
     ]
    }
   ],
   "source": [
    "wish(\"Arman\",msg=\"Good morning\")\n",
    "wish(name=\"Arman\",\"Good morning\")"
   ]
  },
  {
   "cell_type": "markdown",
   "metadata": {},
   "source": [
    "#### Default argument"
   ]
  },
  {
   "cell_type": "code",
   "execution_count": 27,
   "metadata": {},
   "outputs": [
    {
     "name": "stdout",
     "output_type": "stream",
     "text": [
      "Hello Arman\n",
      "Hello Guest\n"
     ]
    }
   ],
   "source": [
    "def wish(name=\"Guest\"):\n",
    "    print(\"Hello\",name)\n",
    "wish(\"Arman\")\n",
    "wish()"
   ]
  },
  {
   "cell_type": "markdown",
   "metadata": {},
   "source": [
    "#### Variable length argument\n",
    "def f1(*n)"
   ]
  },
  {
   "cell_type": "code",
   "execution_count": 34,
   "metadata": {},
   "outputs": [
    {
     "name": "stdout",
     "output_type": "stream",
     "text": [
      "(10, 20, 30)\n",
      "The sum is: 60\n",
      "(10,)\n",
      "The sum is: 10\n",
      "()\n",
      "The sum is: 0\n"
     ]
    }
   ],
   "source": [
    "def sum(*n):\n",
    "    print(n)\n",
    "    total=0\n",
    "    for n1 in n:\n",
    "        total+=n1\n",
    "    print(\"The sum is:\",total)\n",
    "sum(10,20,30)\n",
    "sum(10)\n",
    "sum()"
   ]
  },
  {
   "cell_type": "code",
   "execution_count": 40,
   "metadata": {},
   "outputs": [
    {
     "name": "stdout",
     "output_type": "stream",
     "text": [
      "10\n",
      "10\n",
      "20\n",
      "30\n",
      "40\n",
      "10\n",
      "A\n",
      "B\n",
      "C\n"
     ]
    }
   ],
   "source": [
    "def f1(n1,*s):\n",
    "    print(n1)\n",
    "    for i in s:\n",
    "        print(i)\n",
    "f1(10)\n",
    "f1(10,20,30,40)\n",
    "f1(10,\"A\",\"B\",\"C\")"
   ]
  },
  {
   "cell_type": "code",
   "execution_count": 45,
   "metadata": {},
   "outputs": [
    {
     "name": "stdout",
     "output_type": "stream",
     "text": [
      "10\n",
      "20\n",
      "10\n",
      "20\n",
      "30\n",
      "40\n"
     ]
    }
   ],
   "source": [
    "def f1(*s,n1):# gives error because no vlaue gets in n1\n",
    "    for i in s:\n",
    "        print(i)\n",
    "    print(n1)\n",
    "f1(10,n1=20)\n",
    "f1(10,20,30,n1=40)\n"
   ]
  }
 ],
 "metadata": {
  "kernelspec": {
   "display_name": "Python 3",
   "language": "python",
   "name": "python3"
  },
  "language_info": {
   "codemirror_mode": {
    "name": "ipython",
    "version": 3
   },
   "file_extension": ".py",
   "mimetype": "text/x-python",
   "name": "python",
   "nbconvert_exporter": "python",
   "pygments_lexer": "ipython3",
   "version": "3.8.5"
  }
 },
 "nbformat": 4,
 "nbformat_minor": 4
}
