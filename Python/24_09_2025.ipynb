{
 "cells": [
  {
   "cell_type": "markdown",
   "metadata": {},
   "source": [
    "##### Q.WAP to accept age,gender and number of days and display the wages according to the given table\n",
    "........Age.............Gender................Wages/day\n",
    "\n",
    ":>=18 and <30......M............................700\n",
    "\n",
    "..............................F...........................750\n",
    "\n",
    ":>=30 and <=40.....M........................800\n",
    "\n",
    "..............................F.........................850"
   ]
  },
  {
   "cell_type": "code",
   "execution_count": 2,
   "metadata": {},
   "outputs": [
    {
     "name": "stdout",
     "output_type": "stream",
     "text": [
      "Enter your age:25\n",
      "Enter your gender:F\n",
      "Enter number of days:20\n",
      "Age: 25 Gender: F Days worked: 20 Wages earned: 15000\n"
     ]
    }
   ],
   "source": [
    "age=int(input(\"Enter your age:\"))\n",
    "Gender=input(\"Enter your gender:\")\n",
    "days=int(input(\"Enter number of days:\"))\n",
    "wages_earned=0\n",
    "if(Gender==\"M\"):\n",
    "    if(age>=18 and age<30):\n",
    "        wages_earned=days*700\n",
    "    elif(age>=30 and age<=40):\n",
    "        wages_earned=days*800\n",
    "    else:\n",
    "        print(\"Enter valid age\")\n",
    "elif(Gender==\"F\"):\n",
    "    if(age>=18 and age<30):\n",
    "        wages_earned=days*750\n",
    "    elif(age>=30 and age<=40):\n",
    "        wages_earned=days*850\n",
    "    else:\n",
    "        print(\"Enter valid age\")\n",
    "else:\n",
    "    print(\"Enter valid gender\")\n",
    "print(\"Age:\",age,\"Gender:\",Gender,\"Days worked:\",days,\"Wages earned:\",wages_earned)\n"
   ]
  },
  {
   "cell_type": "markdown",
   "metadata": {},
   "source": [
    "#####  WAP  to accept three sides of triangle and check wether its equilateral,isosceles or scalen triangle\n",
    "equilateral:all sides equal\n",
    "scalene:three enequl sides\n",
    "isosceles:two sides aare equal\n"
   ]
  },
  {
   "cell_type": "code",
   "execution_count": 8,
   "metadata": {},
   "outputs": [
    {
     "name": "stdout",
     "output_type": "stream",
     "text": [
      "Enter side-1:10\n",
      "Enter side-2:20\n",
      "Enter side-3:10\n",
      "It is a Isosceles triangle\n"
     ]
    }
   ],
   "source": [
    "side1=int(input(\"Enter side-1:\"))\n",
    "side2=int(input(\"Enter side-2:\"))\n",
    "side3=int(input(\"Enter side-3:\"))\n",
    "if(side1==side2==side3):\n",
    "    print(\"It is an equilateral triangle\")\n",
    "elif((side1==side2)or(side2==side3)or(side3==side1)):\n",
    "    print(\"It is a Isosceles triangle\")\n",
    "else:\n",
    "    print(\"It is scalene triangle\")\n"
   ]
  },
  {
   "cell_type": "markdown",
   "metadata": {},
   "source": [
    "##### Q.Find sum of n natural numbers"
   ]
  },
  {
   "cell_type": "code",
   "execution_count": 11,
   "metadata": {},
   "outputs": [
    {
     "name": "stdout",
     "output_type": "stream",
     "text": [
      "Enter number10\n",
      "Sum: 55\n"
     ]
    }
   ],
   "source": [
    "num=int(input(\"Enter number\"))\n",
    "sum=int(num*((num+1)/2))\n",
    "print(\"Sum:\",sum)"
   ]
  },
  {
   "cell_type": "markdown",
   "metadata": {},
   "source": [
    "#####  Q.Ask for the numbers from user and find average"
   ]
  },
  {
   "cell_type": "code",
   "execution_count": 3,
   "metadata": {},
   "outputs": [
    {
     "name": "stdout",
     "output_type": "stream",
     "text": [
      "Enter how many numbers you want to sum5\n",
      "Enter a number1:1\n",
      "Enter a number2:2\n",
      "Enter a number3:3\n",
      "Enter a number4:4\n",
      "Enter a number5:5\n",
      "Sum: 15\n",
      "Average: 3.0\n"
     ]
    }
   ],
   "source": [
    "limit=int(input(\"Enter how many numbers you want to sum\"))\n",
    "sum=0\n",
    "for i in range(limit):\n",
    "    num=int(input(f\"Enter a number{i+1}:\"))\n",
    "    sum+=num\n",
    "print(\"Sum:\",sum)\n",
    "avg=sum/limit\n",
    "print(\"Average:\",avg)"
   ]
  },
  {
   "cell_type": "markdown",
   "metadata": {},
   "source": [
    "##### Q.Find the sum of digits in a number"
   ]
  },
  {
   "cell_type": "code",
   "execution_count": 7,
   "metadata": {},
   "outputs": [
    {
     "name": "stdout",
     "output_type": "stream",
     "text": [
      "Enter a number:23679\n",
      "Sum: 27\n"
     ]
    }
   ],
   "source": [
    "num=int(input(\"Enter a number:\"))\n",
    "sum=0\n",
    "temp=num\n",
    "while temp!=0:\n",
    "    sum+=temp%10\n",
    "    temp//=10\n",
    "print(\"Sum:\",sum)"
   ]
  },
  {
   "cell_type": "markdown",
   "metadata": {},
   "source": [
    "##### Q.WAP to reverse the numer\n"
   ]
  },
  {
   "cell_type": "code",
   "execution_count": 13,
   "metadata": {},
   "outputs": [
    {
     "name": "stdout",
     "output_type": "stream",
     "text": [
      "Enter a number:123\n",
      "Reverse number: 321\n"
     ]
    }
   ],
   "source": [
    "n=int(input(\"Enter a number:\"))\n",
    "rev_num=0\n",
    "while n!=0:\n",
    "    digit=n%10\n",
    "    rev_num=rev_num*10+digit\n",
    "    n=n//10\n",
    "print(\"Reverse number:\",rev_num)"
   ]
  },
  {
   "cell_type": "markdown",
   "metadata": {},
   "source": [
    "##### Q.Check the palindrome number"
   ]
  },
  {
   "cell_type": "code",
   "execution_count": 14,
   "metadata": {},
   "outputs": [
    {
     "name": "stdout",
     "output_type": "stream",
     "text": [
      "Enter a number:121\n",
      "It is palindrome\n"
     ]
    }
   ],
   "source": [
    "n=int(input(\"Enter a number:\"))\n",
    "temp=n\n",
    "rev_num=0\n",
    "while n!=0:\n",
    "    digit=n%10\n",
    "    rev_num=rev_num*10+digit\n",
    "    n=n//10\n",
    "if(temp==rev_num):\n",
    "    print(\"It is palindrome\")\n",
    "else:\n",
    "    print(\"It is not palindrome\")"
   ]
  },
  {
   "cell_type": "markdown",
   "metadata": {},
   "source": [
    "##### Q.check for the armstrong number"
   ]
  },
  {
   "cell_type": "code",
   "execution_count": 5,
   "metadata": {},
   "outputs": [
    {
     "name": "stdout",
     "output_type": "stream",
     "text": [
      "Enter a number:153\n",
      "Armstrong\n"
     ]
    }
   ],
   "source": [
    "import math as m\n",
    "n=int(input(\"Enter a number:\"))\n",
    "temp=n\n",
    "sum=0\n",
    "c=len(str(n))\n",
    "while n!=0:\n",
    "    digit=n%10\n",
    "    sum+=m.pow(digit,c)\n",
    "    n=n//10\n",
    "if(sum==temp):\n",
    "    print(\"Armstrong\")\n",
    "else:\n",
    "    print(\"Not armstrong\")"
   ]
  },
  {
   "cell_type": "markdown",
   "metadata": {},
   "source": [
    "##### Q.Check for the prime number"
   ]
  },
  {
   "cell_type": "code",
   "execution_count": 4,
   "metadata": {},
   "outputs": [
    {
     "name": "stdout",
     "output_type": "stream",
     "text": [
      "Enter a number2\n",
      "0\n",
      "Prime number\n"
     ]
    }
   ],
   "source": [
    "num=int(input(\"Enter a number\"))\n",
    "c=0\n",
    "for i in range (2,num):\n",
    "    if(num%i==0):\n",
    "        c+=1\n",
    "print(c)\n",
    "if (c>0):\n",
    "    print(\"Not a prime number.\")\n",
    "else:\n",
    "    print(\"Prime number\")"
   ]
  },
  {
   "cell_type": "markdown",
   "metadata": {},
   "source": [
    "###### Q.Print prime numbers between 1 to 100"
   ]
  },
  {
   "cell_type": "code",
   "execution_count": 27,
   "metadata": {},
   "outputs": [
    {
     "name": "stdout",
     "output_type": "stream",
     "text": [
      "2\n",
      "3\n",
      "5\n",
      "7\n",
      "11\n",
      "13\n",
      "17\n",
      "19\n",
      "23\n",
      "29\n",
      "31\n",
      "37\n",
      "41\n",
      "43\n",
      "47\n",
      "53\n",
      "59\n",
      "61\n",
      "67\n",
      "71\n",
      "73\n",
      "79\n",
      "83\n",
      "89\n",
      "97\n",
      "Count: 25\n"
     ]
    }
   ],
   "source": [
    "count=0\n",
    "for i in range (2,101):\n",
    "    c=0\n",
    "    for j in range(2,i):\n",
    "        if(i%j==0):\n",
    "            c+=1\n",
    "            break\n",
    "    if(c==0):\n",
    "        count+=1\n",
    "        print(i)\n",
    "print(\"Count:\",count)           \n",
    "\n",
    "\n"
   ]
  },
  {
   "cell_type": "markdown",
   "metadata": {},
   "source": [
    "#####  Q.Happy number"
   ]
  },
  {
   "cell_type": "code",
   "execution_count": null,
   "metadata": {},
   "outputs": [
    {
     "name": "stdout",
     "output_type": "stream",
     "text": [
      "Enter a number:13\n"
     ]
    }
   ],
   "source": [
    "number=int(input(\"Enter a number:\"))\n",
    "sum=0\n",
    "flag=True\n",
    "while flag:\n",
    "    print(num)\n",
    "    sum=0\n",
    "    digits"
   ]
  },
  {
   "cell_type": "code",
   "execution_count": null,
   "metadata": {},
   "outputs": [],
   "source": []
  }
 ],
 "metadata": {
  "kernelspec": {
   "display_name": "Python 3",
   "language": "python",
   "name": "python3"
  },
  "language_info": {
   "codemirror_mode": {
    "name": "ipython",
    "version": 3
   },
   "file_extension": ".py",
   "mimetype": "text/x-python",
   "name": "python",
   "nbconvert_exporter": "python",
   "pygments_lexer": "ipython3",
   "version": "3.8.5"
  }
 },
 "nbformat": 4,
 "nbformat_minor": 4
}
