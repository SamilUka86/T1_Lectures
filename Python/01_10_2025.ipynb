{
 "cells": [
  {
   "cell_type": "code",
   "execution_count": 5,
   "metadata": {},
   "outputs": [
    {
     "name": "stdout",
     "output_type": "stream",
     "text": [
      "{'m1': 100, 'm2': 200, 'm3': 300}\n",
      "<class 'dict'>\n",
      "m1 = 100\n",
      "m2 = 200\n",
      "m3 = 300\n",
      "{'rollno': 10, 'name': 'Arman', 'subject': 'python', 'marks': 88}\n",
      "<class 'dict'>\n",
      "rollno = 10\n",
      "name = Arman\n",
      "subject = python\n",
      "marks = 88\n"
     ]
    }
   ],
   "source": [
    "def display(**kwargs):#creates in form of dictionary\n",
    "    print(kwargs)\n",
    "    print(type(kwargs))\n",
    "     for k,v in kwargs.items():\n",
    "        print(k,\"=\",v)\n",
    "display(m1=100,m2=200,m3=300)\n",
    "display(rollno=10,name=\"Arman\",subject=\"python\",marks=88)"
   ]
  },
  {
   "cell_type": "code",
   "execution_count": 11,
   "metadata": {},
   "outputs": [
    {
     "name": "stdout",
     "output_type": "stream",
     "text": [
      "{'m1': 100, 'm2': 200, 'm3': 300}\n",
      "dict_values([100, 200, 300])\n",
      "<class 'dict'>\n",
      "('m1', 100)\n",
      "('m2', 200)\n",
      "('m3', 300)\n",
      "{'rollno': 10, 'name': 'Arman', 'subject': 'python', 'marks': 88}\n",
      "dict_values([10, 'Arman', 'python', 88])\n",
      "<class 'dict'>\n",
      "('rollno', 10)\n",
      "('name', 'Arman')\n",
      "('subject', 'python')\n",
      "('marks', 88)\n"
     ]
    }
   ],
   "source": [
    "def display(**kwargs):#creates in form of dictionary\n",
    "    print(kwargs)\n",
    "    print(kwargs.values())\n",
    "    print(type(kwargs))\n",
    "    for k in kwargs.items():\n",
    "        print(k)\n",
    "display(m1=100,m2=200,m3=300)\n",
    "display(rollno=10,name=\"Arman\",subject=\"python\",marks=88)"
   ]
  },
  {
   "cell_type": "markdown",
   "metadata": {},
   "source": [
    "#### Nested Function"
   ]
  },
  {
   "cell_type": "code",
   "execution_count": 18,
   "metadata": {},
   "outputs": [
    {
     "name": "stdout",
     "output_type": "stream",
     "text": [
      "Outer\n",
      "Inner\n"
     ]
    }
   ],
   "source": [
    "def outer():\n",
    "    print(\"Outer\")\n",
    "    def inner():\n",
    "        print(\"Inner\")\n",
    "    inner()\n",
    "outer()"
   ]
  },
  {
   "cell_type": "code",
   "execution_count": 20,
   "metadata": {},
   "outputs": [
    {
     "name": "stdout",
     "output_type": "stream",
     "text": [
      "54\n",
      "45\n"
     ]
    }
   ],
   "source": [
    "def fun1():\n",
    "    a=45\n",
    "    def fun2():\n",
    "        a=54\n",
    "        print(a)\n",
    "    fun2()\n",
    "    print(a)\n",
    "fun1()"
   ]
  },
  {
   "cell_type": "code",
   "execution_count": 25,
   "metadata": {},
   "outputs": [
    {
     "name": "stdout",
     "output_type": "stream",
     "text": [
      "0\n",
      "1\n",
      "2\n",
      "3\n",
      "4\n",
      "Hello world\n"
     ]
    }
   ],
   "source": [
    "for i in range(5):\n",
    "    print(i)\n",
    "else:\n",
    "    print(\"Hello world\")"
   ]
  },
  {
   "cell_type": "code",
   "execution_count": 24,
   "metadata": {},
   "outputs": [
    {
     "name": "stdout",
     "output_type": "stream",
     "text": [
      "0\n",
      "1\n",
      "2\n"
     ]
    }
   ],
   "source": [
    "for i in range(5):\n",
    "    if(i==3):\n",
    "        break\n",
    "    print(i)\n",
    "else:\n",
    "    print(\"Hello world\")"
   ]
  },
  {
   "cell_type": "code",
   "execution_count": 30,
   "metadata": {},
   "outputs": [
    {
     "name": "stdout",
     "output_type": "stream",
     "text": [
      "1\n",
      "2\n",
      "3\n",
      "4\n",
      "Hi\n"
     ]
    }
   ],
   "source": [
    "i=1\n",
    "while i<5:\n",
    "    print(i)\n",
    "    i+=1\n",
    "else:\n",
    "    print(\"Hi\")"
   ]
  },
  {
   "cell_type": "code",
   "execution_count": 31,
   "metadata": {},
   "outputs": [
    {
     "name": "stdout",
     "output_type": "stream",
     "text": [
      "1\n"
     ]
    }
   ],
   "source": [
    "i=1\n",
    "while i<5:\n",
    "    if(i==2):\n",
    "        break\n",
    "    print(i)\n",
    "    i+=1\n",
    "else:\n",
    "    print(\"Hi\")"
   ]
  },
  {
   "cell_type": "markdown",
   "metadata": {},
   "source": [
    "#####  Q.WAP to check if the given number is Harshad or not"
   ]
  },
  {
   "cell_type": "code",
   "execution_count": 41,
   "metadata": {},
   "outputs": [
    {
     "name": "stdout",
     "output_type": "stream",
     "text": [
      "Enter a number:81\n",
      "It is harshad number\n"
     ]
    }
   ],
   "source": [
    "number=int(input(\"Enter a number:\"))\n",
    "temp=number\n",
    "\n",
    "def harshad_num(n):\n",
    "    sum=0\n",
    "    while(n>0):\n",
    "        sum+=(n%10)\n",
    "        n//=10\n",
    "    if(temp%sum==0):\n",
    "        print(\"It is harshad number\")\n",
    "    else:\n",
    "        print(\"Not a harshad number\")\n",
    "harshad_num(number)\n",
    "        "
   ]
  },
  {
   "cell_type": "markdown",
   "metadata": {},
   "source": [
    "#####  WAP that accept a single digit integer number and produces all possible six digit number for which the product of that digits is equal to the entered number"
   ]
  },
  {
   "cell_type": "code",
   "execution_count": 4,
   "metadata": {},
   "outputs": [
    {
     "name": "stdout",
     "output_type": "stream",
     "text": [
      "Enter a number:10\n",
      "Enter between 1 and 9\n"
     ]
    }
   ],
   "source": [
    "def sixdigit_num(number):\n",
    "    if (number<1 or number>9):\n",
    "        print(\"Enter between 1 and 9\")\n",
    "    else:\n",
    "        for i in range (100000,1000000):\n",
    "            product=1\n",
    "            temp=i\n",
    "            while temp>0:\n",
    "                digit=temp%10\n",
    "                product*=digit\n",
    "                temp//=10\n",
    "            if(product==number):\n",
    "                print(i)\n",
    "num=int(input(\"Enter a number:\"))\n",
    "sixdigit_num(num)"
   ]
  },
  {
   "cell_type": "markdown",
   "metadata": {},
   "source": [
    "#####  WAP to get next  date of a given date \n",
    " if((year%4==0 and year%100!=0) or year%400==0):"
   ]
  },
  {
   "cell_type": "code",
   "execution_count": 1,
   "metadata": {},
   "outputs": [
    {
     "name": "stdout",
     "output_type": "stream",
     "text": [
      "Enter day:31\n",
      "Enter month:12\n",
      "Enter year:2024\n",
      "Next date is:1,1,2025\n"
     ]
    }
   ],
   "source": [
    "def next_date(day,month,year):\n",
    "    thirty1=(1,3,5,7,8,10,12)\n",
    "    thirty=(4,6,9,11)\n",
    "    if((day<0 or day>32)or(month<0 or month>12)):\n",
    "        print(\"Enter valid date\")\n",
    "    elif((day==31)and(month==12)):\n",
    "         print(f\"Next date is:{1},{1},{year+1}\")\n",
    "    else:\n",
    "        if((day==31)and(month in thirty1)):\n",
    "            print(f\"Next date is:{1},{month+1},{year}\")\n",
    "        if((day==30)and(month in thirty)):\n",
    "            print(f\"Next date is:{1},{month+1},{year}\")\n",
    "        if((day==28)and(month==2)):\n",
    "             if((year%4==0 and year%100!=0) or year%400==0):\n",
    "                    print(f\"Next date is:{29},{month},{year}\")\n",
    "             else:\n",
    "                print(f\"Next date is:{1},{month+1},{year}\")\n",
    "        else:\n",
    "             print(f\"Next date is:{day+1},{month},{year}\")\n",
    "\n",
    "day=int(input(\"Enter day:\"))\n",
    "month=int(input(\"Enter month:\"))\n",
    "year=int(input(\"Enter year:\"))\n",
    "next_date(day,month,year)"
   ]
  },
  {
   "cell_type": "markdown",
   "metadata": {},
   "source": [
    "##### Q.WAP to create  a sequence where the first four members of sequence are equal to 1 and each successive term of the sequence is equal to the sum of  the four previous ones find nth member of the sequence"
   ]
  },
  {
   "cell_type": "code",
   "execution_count": 4,
   "metadata": {},
   "outputs": [
    {
     "name": "stdout",
     "output_type": "stream",
     "text": [
      "Enter a number:5\n",
      "4\n"
     ]
    }
   ],
   "source": [
    "n=int(input(\"Enter a number:\"))\n",
    "a=b=c=d=1\n",
    "for i in range(1,n+1):\n",
    "    if(i<=4):\n",
    "        ans=1\n",
    "    else:\n",
    "        ans=a+b+c+d\n",
    "        a=b\n",
    "        b=c\n",
    "        c=d\n",
    "        d=ans\n",
    "print(ans)\n",
    "    "
   ]
  },
  {
   "cell_type": "code",
   "execution_count": 2,
   "metadata": {},
   "outputs": [
    {
     "name": "stdout",
     "output_type": "stream",
     "text": [
      "Enter Nth Term : 5\n",
      "The Term is :  4\n"
     ]
    }
   ],
   "source": [
    "def nth_term(number):\n",
    "    if number < 0:\n",
    "        print(\"Please enter +ve number to find its term\")\n",
    "    if number <= 4:\n",
    "        return 1\n",
    "    sequence = [1,1,1,1]\n",
    "    for i in range(4,number):\n",
    "        next_term = sequence[i-1] + sequence[i-2] + sequence[i-3] + sequence[i-4]\n",
    "        sequence.append(next_term)\n",
    "        \n",
    "    return sequence[number-1]\n",
    "\n",
    "number = int(input(\"Enter Nth Term : \"))\n",
    "result = nth_term(number)\n",
    "print(\"The Term is : \",result)"
   ]
  }
 ],
 "metadata": {
  "kernelspec": {
   "display_name": "Python 3",
   "language": "python",
   "name": "python3"
  },
  "language_info": {
   "codemirror_mode": {
    "name": "ipython",
    "version": 3
   },
   "file_extension": ".py",
   "mimetype": "text/x-python",
   "name": "python",
   "nbconvert_exporter": "python",
   "pygments_lexer": "ipython3",
   "version": "3.8.5"
  }
 },
 "nbformat": 4,
 "nbformat_minor": 4
}
